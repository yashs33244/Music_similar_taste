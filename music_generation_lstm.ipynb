{
  "cells": [
    {
      "cell_type": "markdown",
      "metadata": {
        "id": "view-in-github",
        "colab_type": "text"
      },
      "source": [
        "<a href=\"https://colab.research.google.com/github/yashs33244/Music_similar_taste/blob/main/music_generation_lstm.ipynb\" target=\"_parent\"><img src=\"https://colab.research.google.com/assets/colab-badge.svg\" alt=\"Open In Colab\"/></a>"
      ]
    },
    {
      "cell_type": "code",
      "source": [
        "from google.colab import drive\n",
        "drive.mount('/content/drive')"
      ],
      "metadata": {
        "colab": {
          "base_uri": "https://localhost:8080/"
        },
        "id": "E_J55Ul7Ems2",
        "outputId": "1d08bfd0-c3f8-4791-ed7f-e6da7b7057be"
      },
      "execution_count": null,
      "outputs": [
        {
          "output_type": "stream",
          "name": "stdout",
          "text": [
            "Drive already mounted at /content/drive; to attempt to forcibly remount, call drive.mount(\"/content/drive\", force_remount=True).\n"
          ]
        }
      ]
    },
    {
      "cell_type": "code",
      "execution_count": null,
      "metadata": {
        "_kg_hide-input": true,
        "_kg_hide-output": true,
        "execution": {
          "iopub.execute_input": "2021-10-11T11:16:18.677034Z",
          "iopub.status.busy": "2021-10-11T11:16:18.676798Z",
          "iopub.status.idle": "2021-10-11T11:17:00.625141Z",
          "shell.execute_reply": "2021-10-11T11:17:00.624313Z",
          "shell.execute_reply.started": "2021-10-11T11:16:18.676965Z"
        },
        "trusted": true,
        "colab": {
          "base_uri": "https://localhost:8080/"
        },
        "id": "ftou3HelCugW",
        "outputId": "1691a345-8a6e-4519-8fec-d6b6f9b7e095"
      },
      "outputs": [
        {
          "output_type": "stream",
          "name": "stdout",
          "text": [
            "Processing triggers for tex-common (6.17) ...\n",
            "Running updmap-sys. This may take some time... done.\n",
            "Running mktexlsr /var/lib/texmf ... done.\n",
            "Building format(s) --all.\n",
            "\tThis may take some time... done.\n"
          ]
        }
      ],
      "source": [
        "# This Python 3 environment comes with many helpful analytics libraries installed\n",
        "# It is defined by the kaggle/python Docker image: https://github.com/kaggle/docker-python\n",
        "# For example, here's several helpful packages to load\n",
        "\n",
        "import numpy as np # linear algebra\n",
        "import pandas as pd # data processing, CSV file I/O (e.g. pd.read_csv)\n",
        "\n",
        "# Input data files are available in the read-only \"../input/\" directory\n",
        "# For example, running this (by clicking run or pressing Shift+Enter) will list all files under the input directory\n",
        "\n",
        "import os\n",
        "for dirname, _, filenames in os.walk('/kaggle/input'):\n",
        "    for filename in filenames:\n",
        "        print(os.path.join(dirname, filename))\n",
        "\n",
        "# You can write up to 20GB to the current directory (/kaggle/working/) that gets preserved as output when you create a version using \"Save & Run All\"\n",
        "# You can also write temporary files to /kaggle/temp/, but they won't be saved outside of the current session\n",
        "\n",
        "#Installing dependencies\n",
        "!pip install music21\n",
        "!apt-get install -y lilypond"
      ]
    },
    {
      "cell_type": "markdown",
      "metadata": {
        "id": "Kbkx1BY4CugY"
      },
      "source": []
    },
    {
      "cell_type": "code",
      "execution_count": null,
      "metadata": {
        "_kg_hide-output": true,
        "execution": {
          "iopub.execute_input": "2021-10-11T11:17:00.627369Z",
          "iopub.status.busy": "2021-10-11T11:17:00.627086Z",
          "iopub.status.idle": "2021-10-11T11:17:05.797137Z",
          "shell.execute_reply": "2021-10-11T11:17:05.796307Z",
          "shell.execute_reply.started": "2021-10-11T11:17:00.627333Z"
        },
        "trusted": true,
        "id": "jIDLBYmkCugZ"
      },
      "outputs": [],
      "source": [
        "#Importing Libraries\n",
        "import tensorflow\n",
        "import numpy as np\n",
        "import pandas as pd\n",
        "from collections import Counter\n",
        "import random\n",
        "import IPython\n",
        "from IPython.display import Image, Audio\n",
        "import music21\n",
        "from music21 import *\n",
        "import matplotlib.pyplot as plt\n",
        "from sklearn.model_selection import train_test_split\n",
        "from tensorflow.keras.models import Sequential\n",
        "from tensorflow.keras.layers import LSTM, Dense, Dropout\n",
        "import tensorflow.keras.backend as K\n",
        "from tensorflow.keras.optimizers import Adamax\n",
        "import seaborn as sns\n",
        "import matplotlib.pyplot as plt\n",
        "import matplotlib.patches as mpatches\n",
        "%matplotlib inline\n",
        "import sys\n",
        "import warnings\n",
        "warnings.filterwarnings(\"ignore\")\n",
        "warnings.simplefilter(\"ignore\")\n",
        "np.random.seed(42)"
      ]
    },
    {
      "cell_type": "markdown",
      "metadata": {
        "id": "q51KGajwCugZ"
      },
      "source": [
        "<a id=\"2\"></a>\n",
        "# <p style=\"background-color:#97BACB;font-family:newtimeroman;color:#EBDDD0;font-size:120%;text-align:center;border-radius:40px 40px;\">LOADING DATA</p>\n",
        "\n",
        "For this project, I will be using MIDI files of classical piano music. The dataset includes various artists. I will be working with Frédéric Chopin's compositions.\n",
        "\n",
        "* First of all, I make a list of all the songs in the Chopin folder parsed as music21 stream.\n",
        "\n",
        "* Then I will be creating a function to extract chords and notes out of the data creating a corpus.\n",
        "\n",
        "**Laoding and parsing data**"
      ]
    },
    {
      "cell_type": "code",
      "execution_count": null,
      "metadata": {
        "id": "jFRyAR5xCugZ"
      },
      "outputs": [],
      "source": [
        "pip install librosa"
      ]
    },
    {
      "cell_type": "code",
      "execution_count": null,
      "metadata": {
        "id": "yq8SGdMBCuga"
      },
      "outputs": [],
      "source": [
        "pip install pretty_midi"
      ]
    },
    {
      "cell_type": "code",
      "execution_count": null,
      "metadata": {
        "colab": {
          "base_uri": "https://localhost:8080/"
        },
        "id": "cKhycGyfCuga",
        "outputId": "4905d536-4924-4371-e3e2-7c8c6770008d"
      },
      "outputs": [
        {
          "output_type": "stream",
          "name": "stdout",
          "text": [
            "  Building wheel for crepe (setup.py) ... \u001b[?25l\u001b[?25hdone\n",
            "  Created wheel for crepe: filename=crepe-0.0.14-py3-none-any.whl size=134848688 sha256=9188f4a36f2d419e358e234f78e0ea697a42642a33a1b5b711655e6f380cae9c\n",
            "  Stored in directory: /root/.cache/pip/wheels/63/94/70/ceaf23147122e5acb47c7332002e0af8aea888cd3330e0cbfc\n",
            "  Building wheel for resampy (setup.py) ... \u001b[?25l\u001b[?25hdone\n",
            "  Created wheel for resampy: filename=resampy-0.2.2-py3-none-any.whl size=320706 sha256=ff1784dea802b4427fbd2bded1a0a8f3649a57399cdc71e367354c5a4b27c0e3\n",
            "  Stored in directory: /root/.cache/pip/wheels/e5/a0/79/29e61754e5b3941ad4c7d01bf5bea99768e64e4bdd3180f32b\n",
            "Successfully built crepe resampy\n",
            "Installing collected packages: resampy, hmmlearn, crepe\n",
            "Successfully installed crepe-0.0.14 hmmlearn-0.3.0 resampy-0.2.2\n"
          ]
        }
      ],
      "source": [
        "!pip install crepe"
      ]
    },
    {
      "cell_type": "code",
      "execution_count": null,
      "metadata": {
        "execution": {
          "iopub.execute_input": "2021-10-11T11:17:05.798866Z",
          "iopub.status.busy": "2021-10-11T11:17:05.798486Z",
          "iopub.status.idle": "2021-10-11T11:22:02.230662Z",
          "shell.execute_reply": "2021-10-11T11:22:02.229854Z",
          "shell.execute_reply.started": "2021-10-11T11:17:05.798830Z"
        },
        "trusted": true,
        "id": "oXNpiApTCuga"
      },
      "outputs": [],
      "source": [
        "\n",
        "\n",
        "# import os\n",
        "# import librosa\n",
        "# import pretty_midi\n",
        "# import crepe\n",
        "\n",
        "# filepath = \"D:\\Torrent downloads\\Samples\\KSHMR VOLUME 3\\KSHMR_Live_Instruments\\KSHMR_Main_Instruments\\KSHMR_Guitar\\KSHMR_Guitar_Chords\\KSHMR_Electric_Chords/\"\n",
        "\n",
        "# # Getting midi files\n",
        "# all_midis= []\n",
        "# for i in os.listdir(filepath):\n",
        "#     if i.endswith(\".wav\"):\n",
        "#         tr = filepath+i\n",
        "\n",
        "#         # Load the audio file\n",
        "#         audio, sample_rate = librosa.load(tr)\n",
        "\n",
        "#         # Extract pitch information from the audio file\n",
        "#         time, frequency, confidence, activation = crepe.predict(audio, sr=sample_rate, viterbi=True)\n",
        "\n",
        "#         # Create a PrettyMIDI object\n",
        "#         midi = pretty_midi.PrettyMIDI()\n",
        "\n",
        "#         # Create an Instrument object\n",
        "#         instrument = pretty_midi.Instrument(program=pretty_midi.instrument_name_to_program('Acoustic Grand Piano'))\n",
        "\n",
        "#         # Add notes to the Instrument object\n",
        "#         for t, f in zip(time, frequency):\n",
        "#             if f > 0:\n",
        "#                 note_number = int(round(pretty_midi.hz_to_note_number(f)))\n",
        "#                 note_start = t\n",
        "#                 note_end = t + 0.1\n",
        "#                 note = pretty_midi.Note(\n",
        "#                     velocity=100, pitch=note_number, start=note_start, end=note_end)\n",
        "#                 instrument.notes.append(note)\n",
        "\n",
        "#         # Add the Instrument object to the PrettyMIDI object\n",
        "#         midi.instruments.append(instrument)\n",
        "\n",
        "#         all_midis.append(midi)\n",
        "# all_midis= []\n",
        "# for i in os.listdir(filepath):\n",
        "#     if i.endswith(\".wav\"):\n",
        "#         tr = filepath+i\n",
        "\n",
        "#         # Load the audio file\n",
        "\n",
        "\n",
        "\n",
        "#         audio, sample_rate = librosa.load(tr)\n",
        "\n",
        "#         # Convert the audio file to MIDI\n",
        "\n",
        "#         midi = librosa.audio2midi(audio, sample_rate)\n",
        "\n",
        "#         all_midis.append(midi)"
      ]
    },
    {
      "cell_type": "code",
      "execution_count": null,
      "metadata": {
        "id": "q0K-rmK1Cugb"
      },
      "outputs": [],
      "source": [
        "#Loading the list midi files as stream\n",
        "filepath = r\"/content/drive/MyDrive/music project/MIDI\"\n",
        "#Getting midi files\n",
        "all_midis= []\n",
        "for i in os.listdir(filepath):\n",
        "    if i.endswith(\".mid\"):\n",
        "        tr = os.path.join(filepath, i)\n",
        "        midi = converter.parse(tr)\n",
        "        all_midis.append(midi)"
      ]
    },
    {
      "cell_type": "markdown",
      "metadata": {
        "id": "a4JzhwRECugb"
      },
      "source": [
        "Next, I get the components out of these streams of MIDI files. The midi files only have the piano included as mentioned in the dataset. So the components of the file would be either piano chords or piano notes.\n",
        "\n",
        "**Note:** The musical notes are the building blocks of the music. It pertains to a pitch associated with a specific audio vibration. Western music utilizes twelve musical notes.\n",
        "\n",
        "**Chord:** A group of notes that sound good together is a chord.\n",
        "\n",
        "The music21 stream that was created in the above cell contains both, chords and notes, we will extract them in the form of notes and obtain a series of notes in the musical composition.\n",
        "\n",
        "**The function to get the notes:**"
      ]
    },
    {
      "cell_type": "code",
      "execution_count": null,
      "metadata": {
        "colab": {
          "base_uri": "https://localhost:8080/"
        },
        "id": "vxIud3wpCugb",
        "outputId": "135510b4-54e9-4947-860e-0afd54f8261a"
      },
      "outputs": [
        {
          "output_type": "stream",
          "name": "stdout",
          "text": [
            "Total notes in all the splice midis in the dataset: 3863\n"
          ]
        }
      ],
      "source": [
        "import music21\n",
        "#Helping function\n",
        "def extract_notes(file):\n",
        "    notes = []\n",
        "    pick = None\n",
        "    for j in file:\n",
        "        songs = instrument.partitionByInstrument(j)\n",
        "        for part in songs.parts:\n",
        "            pick = part.recurse()\n",
        "            for element in pick:\n",
        "                if isinstance(element, note.Note):\n",
        "                    notes.append(str(element.pitch))\n",
        "                elif isinstance(element, chord.Chord):\n",
        "                    notes.append(\".\".join(str(n) for n in element.normalOrder))\n",
        "\n",
        "    return notes\n",
        "#Getting the list of notes as Corpus\n",
        "Corpus= extract_notes(all_midis)\n",
        "print(\"Total notes in all the splice midis in the dataset:\", len(Corpus))"
      ]
    },
    {
      "cell_type": "markdown",
      "metadata": {
        "id": "fbHKAEVbCugc"
      },
      "source": [
        "So we have our data in the form of a corpus. A list of strings, if you will. Each string indicates a musical note. Let us explore this data corpus.\n",
        "\n",
        "<a id=\"3\"></a>\n",
        "# <p style=\"background-color:#97BACB;font-family:newtimeroman;color:#EBDDD0;font-size:120%;text-align:center;border-radius:40px 40px;\">DATA EXPLORATION</p>\n",
        "\n",
        "**In this section, I will be:**\n",
        "* Exploring the data Corpus\n",
        "* Examine all the notes in the Corpus\n",
        "* Simplifying our Corpus to Built a working model\n",
        "\n",
        "**Let us have a look at the first 50 values in our corpus**"
      ]
    },
    {
      "cell_type": "code",
      "execution_count": null,
      "metadata": {
        "execution": {
          "iopub.execute_input": "2021-10-11T11:22:21.075113Z",
          "iopub.status.busy": "2021-10-11T11:22:21.074693Z",
          "iopub.status.idle": "2021-10-11T11:22:21.080474Z",
          "shell.execute_reply": "2021-10-11T11:22:21.079728Z",
          "shell.execute_reply.started": "2021-10-11T11:22:21.075078Z"
        },
        "trusted": true,
        "colab": {
          "base_uri": "https://localhost:8080/"
        },
        "id": "6eX2EEILCugc",
        "outputId": "e1f445f4-77a7-4188-b152-824bd5a1486e"
      },
      "outputs": [
        {
          "output_type": "stream",
          "name": "stdout",
          "text": [
            "First fifty values in the Corpus: ['4', 'G4', 'B4', '0', 'G4', 'B4', 'G4', 'B4', '9', 'G4', 'B4', 'G4', 'B4', 'C6', '9', 'G4', 'B4', 'B5', '4', 'G4', 'B4', '0', 'G4', 'B4', 'G4', 'B4', '9', 'G4', 'B4', 'G4', 'B4', 'C6', '9', 'G4', 'B4', 'B5', '2.4', 'G3', 'B3', '11.2', 'F#3', 'A3', '0.4', 'G3', 'B3', '9.0', 'E3', 'B3', '2.4', 'G3']\n"
          ]
        }
      ],
      "source": [
        "print(\"First fifty values in the Corpus:\", Corpus[:50])"
      ]
    },
    {
      "cell_type": "markdown",
      "metadata": {
        "id": "E2yiQ6z1Cugc"
      },
      "source": [
        "All these values indicate the notes, as mentioned above.\n",
        "\n",
        "**Printing the music sheet**"
      ]
    },
    {
      "cell_type": "code",
      "execution_count": null,
      "metadata": {
        "execution": {
          "iopub.execute_input": "2021-10-11T11:22:21.082389Z",
          "iopub.status.busy": "2021-10-11T11:22:21.081966Z",
          "iopub.status.idle": "2021-10-11T11:22:22.600018Z",
          "shell.execute_reply": "2021-10-11T11:22:22.599285Z",
          "shell.execute_reply.started": "2021-10-11T11:22:21.082356Z"
        },
        "trusted": true,
        "id": "bWm--mmICugc"
      },
      "outputs": [],
      "source": [
        "from music21 import *\n",
        "\n",
        "#First Lets write some functions that we need to look into the data\n",
        "def show(music):\n",
        "    display(Image(str(music.write(\"lily.png\"))))\n",
        "\n",
        "def create_note(note_value):\n",
        "    return note.Note(note_value)\n",
        "\n",
        "def chords_n_notes(Snippet):\n",
        "    Melody = []\n",
        "    offset = 0 #Incremental\n",
        "    for i in Snippet:\n",
        "        #If it is chord\n",
        "        if (\".\" in i or i.isdigit()):\n",
        "            chord_notes = i.split(\".\") #Seperating the notes in chord\n",
        "            notes = []\n",
        "            for j in chord_notes:\n",
        "                inst_note=int(j)\n",
        "                note_snip = create_note(inst_note)\n",
        "                notes.append(note_snip)\n",
        "            chord_snip = chord.Chord(notes)\n",
        "            chord_snip.offset = offset\n",
        "            Melody.append(chord_snip)\n",
        "        # pattern is a note\n",
        "        else:\n",
        "            note_snip = create_note(i)\n",
        "            note_snip.offset = offset\n",
        "            Melody.append(note_snip)\n",
        "        # increase offset each iteration so that notes do not stack\n",
        "        offset += 1\n",
        "    Melody_midi = stream.Stream(Melody)\n",
        "    return Melody_midi\n",
        "\n",
        "us = environment.UserSettings()\n",
        "us['lilypondPath'] = '/content/drive/MyDrive/music project/MIDI' # Replace with the actual path to Lilypond on your system\n",
        "environment.set('lilypondPath', '/content/drive/MyDrive/music project/MIDI') # Replace with the actual path to Lilypond on your system\n"
      ]
    },
    {
      "cell_type": "markdown",
      "metadata": {
        "id": "7xIdHcOTCugc"
      },
      "source": [
        "**Playing the above sheet music**\n",
        "\n",
        "*As I could not play a midi file on the Kaggle interface, I have created a \".wav\" filetype of the same outside of this code. I am using it to create an audio interface. Let us have a listen to the data corpus.*"
      ]
    },
    {
      "cell_type": "code",
      "source": [
        "#to play audio or corpus\n",
        "print(\"Sample Audio From Data\")\n",
        "IPython.display.Audio(\"/content/drive/MyDrive/music project/MIDI/Cymatics - Oracle Classic MIDI 3 - C Min.mid\")"
      ],
      "metadata": {
        "colab": {
          "base_uri": "https://localhost:8080/",
          "height": 75
        },
        "id": "IyhJ-KV4gUH-",
        "outputId": "559d43ff-73cc-499b-ba20-b08014f009e2"
      },
      "execution_count": null,
      "outputs": [
        {
          "output_type": "execute_result",
          "data": {
            "text/plain": [
              "<IPython.lib.display.Audio object>"
            ],
            "text/html": [
              "\n",
              "                <audio  controls=\"controls\" >\n",
              "                    <source src=\"data:audio/sp-midi;base64,TVRoZAAAAAYAAAABAGBNVHJrAAACoQD/AylDeW1hdGljcyAtIE9yYWNsZSBDbGFzc2ljIE1JREkgMyAtIEMgTWluAAD/WAQEAiQIAP9YBAQCJAgAkDVAAJBBOQCQRC0AkEhRAJBLTGCQTWYOgE1JIpBNTQCQVGELgE1KAIBUWRGANScAkDdCAIBBKgCQQT8AgEQaAJBGOgCASD4AkEpdAIBLMRSQTVYAkFdDB4BXYAGQWV8cgFlLDJBXSwqAV0wCgE0nJJBNXwCQVmwegFZFEpBXXg2ATUcBgFc7DpAwTwCANzQAkDw8AJA/OQCAQSYAkENPAIBGFACQRkMAgEpDAJBNSACQVmQugE0MDYBWSgmQTVwAkFRqDIBUTwKATUVSkE1fDIBNViSQT2IAkFJkIIBPJQGAUjoPkE9XAJBUZwuAVE0BgE9CJJBPYQCQV18qgE89AIBXUgaQT1EAkFlnFoBZUgOAT1AWgDAjAIA8JwCAPwEAgEMnAIBGDQGQNUUAkEFBAJBERQCQSFoAkEtUYJBNZg6ATUkikE1NAJBUYQuATUoAgFRZEYA1OgCQN0sAgEEwAJBBRgCARBkAkEZCAIBIQACQSlcAgEsdFJBNVgCQV0MHgFdgAZBZXxyAWUsMkFdLCoBXTAKATSckkE1fAJBWbB6AVkUSkFteDYBNRwGAWzsOkDBFAIA3OQCQPCEAkD8xAIBBKwCQQ0QAgEYqAJBGTACASjoAkEpLAJBNSACQVmQugE0MDYBWSgmQTVwAkFRqDIBUTwKATUVSkE1fDIBNViSQT2IAkFdkIIBPJQGAVzoPkE9XAJBZZwuAWU0BgE9CJJBPYQCQUl8qgFJSAYBPPQSAMDsAgDwsAIA/CwCAQx4AgEYBAIBKOQGQPzwAkE9RAJBUZxaAVFIDgE9QFoA/UAD/LwA=\" type=\"audio/sp-midi\" />\n",
              "                    Your browser does not support the audio element.\n",
              "                </audio>\n",
              "              "
            ]
          },
          "metadata": {},
          "execution_count": 18
        }
      ]
    },
    {
      "cell_type": "code",
      "execution_count": null,
      "metadata": {
        "execution": {
          "iopub.execute_input": "2021-10-11T11:22:23.199377Z",
          "iopub.status.busy": "2021-10-11T11:22:23.199046Z",
          "iopub.status.idle": "2021-10-11T11:22:23.225688Z",
          "shell.execute_reply": "2021-10-11T11:22:23.224781Z",
          "shell.execute_reply.started": "2021-10-11T11:22:23.199335Z"
        },
        "trusted": true,
        "outputId": "943e9630-fcc6-461a-845d-cc94770a251b",
        "colab": {
          "base_uri": "https://localhost:8080/"
        },
        "id": "vd64ZX6CIKa0"
      },
      "outputs": [
        {
          "output_type": "stream",
          "name": "stdout",
          "text": [
            "Total unique notes in the Corpus: 254\n"
          ]
        }
      ],
      "source": [
        "#Creating a count dictionary\n",
        "count_num = Counter(Corpus)\n",
        "print(\"Total unique notes in the Corpus:\", len(count_num))"
      ]
    },
    {
      "cell_type": "markdown",
      "metadata": {
        "id": "Deze-JRmCugd"
      },
      "source": [
        "**Examine all the notes in the Corpus**"
      ]
    },
    {
      "cell_type": "code",
      "execution_count": null,
      "metadata": {
        "execution": {
          "iopub.execute_input": "2021-10-11T11:22:23.199377Z",
          "iopub.status.busy": "2021-10-11T11:22:23.199046Z",
          "iopub.status.idle": "2021-10-11T11:22:23.225688Z",
          "shell.execute_reply": "2021-10-11T11:22:23.224781Z",
          "shell.execute_reply.started": "2021-10-11T11:22:23.199335Z"
        },
        "trusted": true,
        "id": "dSAYf7LxCugd"
      },
      "outputs": [],
      "source": [
        "from collections import Counter\n",
        "import numpy as np\n",
        "\n",
        "# ... (previous code for extracting notes from .wav files)\n",
        "\n",
        "# # Convert numpy arrays to hashable types (e.g., tuples)\n",
        "# hashable_corpus = [tuple(note) if isinstance(note, np.ndarray) else note for note in Corpus]\n",
        "\n",
        "# Creating a count dictionary\n",
        "count_num = Counter(Corpus)\n",
        "print(\"Total unique notes in the Corpus:\", len(count_num))\n",
        "\n",
        "# Displaying the count of each note\n",
        "for note, count in count_num.items():\n",
        "    print(f\"Note: {note}, Count: {count}\")\n"
      ]
    },
    {
      "cell_type": "code",
      "execution_count": null,
      "metadata": {
        "execution": {
          "iopub.execute_input": "2021-10-11T11:22:23.227778Z",
          "iopub.status.busy": "2021-10-11T11:22:23.227296Z",
          "iopub.status.idle": "2021-10-11T11:22:23.235741Z",
          "shell.execute_reply": "2021-10-11T11:22:23.235081Z",
          "shell.execute_reply.started": "2021-10-11T11:22:23.227728Z"
        },
        "trusted": true,
        "colab": {
          "base_uri": "https://localhost:8080/"
        },
        "id": "_oNLcnZsCugd",
        "outputId": "00a279b3-2911-4731-b86a-585735cf6579"
      },
      "outputs": [
        {
          "output_type": "stream",
          "name": "stdout",
          "text": [
            "Average recurrenc for a note in Corpus: 15.208661417322835\n",
            "Most frequent note in Corpus appeared: 116 times\n",
            "Least frequent note in Corpus appeared: 1 time\n"
          ]
        }
      ],
      "source": [
        "#Exploring the notes dictionary\n",
        "Notes = list(count_num.keys())\n",
        "Recurrence = list(count_num.values())\n",
        "#Average recurrenc for a note in Corpus\n",
        "def Average(lst):\n",
        "    return sum(lst) / len(lst)\n",
        "print(\"Average recurrenc for a note in Corpus:\", Average(Recurrence))\n",
        "print(\"Most frequent note in Corpus appeared:\", max(Recurrence), \"times\")\n",
        "print(\"Least frequent note in Corpus appeared:\", min(Recurrence), \"time\")"
      ]
    },
    {
      "cell_type": "markdown",
      "metadata": {
        "id": "yCHgIMH2Cugd"
      },
      "source": [
        "Clearly, there are some very rare notes in the melody; some so rare that it was played only once in the whole data. This would create a lot of problems. (I did run into most of them while writing this piece)\n",
        "To spare us the error reports, let us have a look at the frequency of the notes.\n",
        "And for simplicity, I shall be eliminating some of the least occurring notes. I am sure Chopin wouldn't mind me messing with his masterpiece for science or would he? Either way, I may never know!   "
      ]
    },
    {
      "cell_type": "code",
      "execution_count": null,
      "metadata": {
        "execution": {
          "iopub.execute_input": "2021-10-11T11:22:23.239962Z",
          "iopub.status.busy": "2021-10-11T11:22:23.239300Z",
          "iopub.status.idle": "2021-10-11T11:22:23.648745Z",
          "shell.execute_reply": "2021-10-11T11:22:23.647902Z",
          "shell.execute_reply.started": "2021-10-11T11:22:23.239927Z"
        },
        "trusted": true,
        "colab": {
          "base_uri": "https://localhost:8080/",
          "height": 332
        },
        "id": "LnRrgA98Cugd",
        "outputId": "cafb7ac9-3ab9-4ccd-88ad-a45c743ffe41"
      },
      "outputs": [
        {
          "output_type": "display_data",
          "data": {
            "text/plain": [
              "<Figure size 1800x300 with 1 Axes>"
            ],
            "image/png": "[encoded data removed]"
          },
          "metadata": {
            "image/png": {
              "width": 1470,
              "height": 315
            }
          }
        }
      ],
      "source": [
        "# Plotting the distribution of Notes\n",
        "plt.figure(figsize=(18,3),facecolor=\"#97BACB\")\n",
        "bins = np.arange(0,(max(Recurrence)), 50)\n",
        "plt.hist(Recurrence, bins=bins, color=\"#97BACB\")\n",
        "plt.axvline(x=100,color=\"#DBACC1\")\n",
        "plt.title(\"Frequency Distribution Of Notes In The Corpus\")\n",
        "plt.xlabel(\"Frequency Of Chords in Corpus\")\n",
        "plt.ylabel(\"Number Of Chords\")\n",
        "plt.show()"
      ]
    },
    {
      "cell_type": "markdown",
      "metadata": {
        "id": "GnKdRPS8Cugd"
      },
      "source": [
        "I have decided, I will be taking out the notes that were played less than 100 times. I mean, if Chopin liked them he would have played it a lot more often. So I create a list of rare notes in the next section."
      ]
    },
    {
      "cell_type": "code",
      "execution_count": null,
      "metadata": {
        "execution": {
          "iopub.execute_input": "2021-10-11T11:22:23.650629Z",
          "iopub.status.busy": "2021-10-11T11:22:23.650348Z",
          "iopub.status.idle": "2021-10-11T11:22:23.656827Z",
          "shell.execute_reply": "2021-10-11T11:22:23.655939Z",
          "shell.execute_reply.started": "2021-10-11T11:22:23.650595Z"
        },
        "trusted": true,
        "colab": {
          "base_uri": "https://localhost:8080/"
        },
        "id": "HVlGdQ9bCugd",
        "outputId": "2c62d535-e328-4b60-ae02-703a1f9e3bb1"
      },
      "outputs": [
        {
          "output_type": "stream",
          "name": "stdout",
          "text": [
            "Total number of notes that occur less than 100 times: 158\n"
          ]
        }
      ],
      "source": [
        "#Getting a list of rare chords\n",
        "rare_note = []\n",
        "for index, (key, value) in enumerate(count_num.items()):\n",
        "    if value < 10:\n",
        "        m =  key\n",
        "        rare_note.append(m)\n",
        "\n",
        "print(\"Total number of notes that occur less than 10 times:\", len(rare_note))"
      ]
    },
    {
      "cell_type": "code",
      "execution_count": null,
      "metadata": {
        "execution": {
          "iopub.execute_input": "2021-10-11T11:22:23.658586Z",
          "iopub.status.busy": "2021-10-11T11:22:23.658297Z",
          "iopub.status.idle": "2021-10-11T11:22:25.737944Z",
          "shell.execute_reply": "2021-10-11T11:22:25.737173Z",
          "shell.execute_reply.started": "2021-10-11T11:22:23.658551Z"
        },
        "trusted": true,
        "colab": {
          "base_uri": "https://localhost:8080/"
        },
        "id": "XM9SM8bLCuge",
        "outputId": "4eaa7963-932e-4097-dff5-dd68da23ee67"
      },
      "outputs": [
        {
          "output_type": "stream",
          "name": "stdout",
          "text": [
            "Length of Corpus after handling rare notes: 3863\n"
          ]
        }
      ],
      "source": [
        "import random\n",
        "import numpy as np\n",
        "\n",
        "# Assuming rare_notes is a set or list of rare notes\n",
        "common_notes = [note for note in Corpus if not np.any(np.in1d(note, rare_note))]  # Choose commonly occurring notes\n",
        "\n",
        "# Adjust the frequency or probability of rare notes\n",
        "adjusted_corpus = [\n",
        "    random.choice(common_notes) if np.any(np.in1d(note, rare_note)) and random.random() > 0.2 else note\n",
        "    for note in Corpus\n",
        "]\n",
        "\n",
        "print(\"Length of Corpus after handling rare notes:\", len(adjusted_corpus))\n"
      ]
    },
    {
      "cell_type": "markdown",
      "source": [
        " <<<<<<<<<<<<<<<<<<<<<<<<<<<<<<<<<<<<<<<<<<<<<<<<<<<new code\n",
        "\n",
        " -->"
      ],
      "metadata": {
        "id": "RVJqAMj-lRwh"
      }
    },
    {
      "cell_type": "code",
      "source": [
        "import random\n",
        "import numpy as np\n",
        "\n",
        "# Assuming rare_notes is a set or list of rare notes\n",
        "common_notes = [note for note in Corpus if not np.any(np.in1d(note, rare_note))]  # Choose commonly occurring notes\n",
        "\n",
        "# Set the maximum allowed consecutive repetitions of a note\n",
        "max_repetitions = 3\n",
        "\n",
        "# Adjust the frequency or probability of rare notes\n",
        "adjusted_corpus = []\n",
        "consecutive_repetitions = 0\n",
        "for note in Corpus:\n",
        "    if np.any(np.in1d(note, rare_note)) and random.random() > 0.2:\n",
        "        # Ensure that consecutive repetitions do not exceed the maximum\n",
        "        if consecutive_repetitions < max_repetitions:\n",
        "            adjusted_corpus.append(random.choice(common_notes))\n",
        "            consecutive_repetitions += 1\n",
        "        else:\n",
        "            adjusted_corpus.append(note)\n",
        "            consecutive_repetitions = 0  # Reset consecutive repetitions counter\n",
        "    else:\n",
        "        adjusted_corpus.append(note)\n",
        "        consecutive_repetitions = 0  # Reset consecutive repetitions counter\n",
        "\n",
        "print(\"Length of Corpus after handling rare notes:\", len(adjusted_corpus))\n"
      ],
      "metadata": {
        "colab": {
          "base_uri": "https://localhost:8080/"
        },
        "id": "aiOjfqN6lRWW",
        "outputId": "7fd9993e-55b1-4f38-c572-32c3374fbc59"
      },
      "execution_count": null,
      "outputs": [
        {
          "output_type": "stream",
          "name": "stdout",
          "text": [
            "Length of Corpus after handling rare notes: 3863\n"
          ]
        }
      ]
    },
    {
      "cell_type": "markdown",
      "metadata": {
        "id": "RT5OApjnCuge"
      },
      "source": [
        "Finally! This is the cleaned data Corpus that I will be using for the music generation.  \n",
        "In the next section, I will be preprocessing this Corpus for the training model.\n",
        "\n",
        "The workflow for this project involves,\n",
        "\n",
        "<p style=\"background-color:#EBDDD0;font-family:newtimeroman;color:#444160;text-align:center;font-size:120%;\">Loading Data ➡️ Preprocessing ➡️ Building Mapping Dictionary ➡️ Building Model ➡️ Generating Music</p>\n",
        "\n",
        "As I have loaded and explored the data,  I will proceed further by pre-processing the text.  \n",
        "\n",
        "\n",
        "<a id=\"4\"></a>\n",
        "# <p style=\"background-color:#97BACB;font-family:newtimeroman;color:#EBDDD0;font-size:120%;text-align:center;border-radius:40px 40px;\">DATA PREPROCESSING</p>\n",
        "\n",
        "Notes are basically sound waves. In music, we have certain specific combinations of Frequency and Wavelength standardized as said notes. Our Corpus has the name of that note. As we parsed the data at the time of loading we took the help of the music21 library (by nice people at MIT); The library fetches Frequency, Wavelength, duration etc for the given notes.\n",
        "\n",
        "\n",
        "\n",
        "**In this section, I will be performing the following:**\n",
        "\n",
        "**Creating a dictionary:** Creating a dictionary to map the notes and their indices. We have the note's name as a string the Corpus. For the computer, these names are just a symbol. So we create a dictionary to map each unique note in our Corpus to a number. And vice versa to retrieve the values at the time of prediction. This will be used to encode and decode the information going in and getting out of the RNN.\n",
        "\n",
        "**Encoding and Splitting the corpus:** Encoding and splitting the corpus into smaller sequences of equal length: At this point, the Corpus contain notes. We will encode this corpus and create small sequences of equal lengths of features and the corresponding targets. Each feature and target will contain the mapped index in the dictionary of the unique characters they signify.\n",
        "\n",
        "**Assigning X and y:** The labels are then resized and normalized. Whereas the targets are one-hot encoded. Ready to be sent to the RNN for the training, but before that let us built the RNN model.\n",
        "\n",
        "**Splitting Train and Seed datasets** To create music we will need to send some input to the RNN. For that, we will set aside a part of the data as seeds. We could have trained it all but I am no musician to come up with an input seed value.\n",
        "\n",
        "**Creating a list of sorted unique characters**"
      ]
    },
    {
      "cell_type": "code",
      "execution_count": null,
      "metadata": {
        "execution": {
          "iopub.execute_input": "2021-10-11T11:22:25.739783Z",
          "iopub.status.busy": "2021-10-11T11:22:25.739349Z",
          "iopub.status.idle": "2021-10-11T11:22:25.749121Z",
          "shell.execute_reply": "2021-10-11T11:22:25.748170Z",
          "shell.execute_reply.started": "2021-10-11T11:22:25.739747Z"
        },
        "trusted": true,
        "colab": {
          "base_uri": "https://localhost:8080/"
        },
        "id": "opO7zQWXCuge",
        "outputId": "2f52b78b-2cd1-4d41-c6ef-c4160fc638d5"
      },
      "outputs": [
        {
          "output_type": "stream",
          "name": "stdout",
          "text": [
            "Total number of characters: 3863\n",
            "Number of unique characters: 254\n"
          ]
        }
      ],
      "source": [
        "# Storing all the unique characters present in my corpus to bult a mapping dic.\n",
        "# Convert numpy arrays to hashable types (e.g., tuples)\n",
        "\n",
        "symb = sorted(list(set(Corpus)))\n",
        "\n",
        "L_corpus = len(Corpus) #length of corpus\n",
        "L_symb = len(symb) #length of total unique characters\n",
        "\n",
        "#Building dictionary to access the vocabulary from indices and vice versa\n",
        "mapping = dict((c, i) for i, c in enumerate(symb))\n",
        "reverse_mapping = dict((i, c) for i, c in enumerate(symb))\n",
        "\n",
        "print(\"Total number of characters:\", L_corpus)\n",
        "print(\"Number of unique characters:\", L_symb)"
      ]
    },
    {
      "cell_type": "markdown",
      "metadata": {
        "id": "QgijPWyNCuge"
      },
      "source": [
        "**Encoding and Splitting the Corpus as Labels and Targets**"
      ]
    },
    {
      "cell_type": "code",
      "execution_count": null,
      "metadata": {
        "execution": {
          "iopub.execute_input": "2021-10-11T11:22:25.751166Z",
          "iopub.status.busy": "2021-10-11T11:22:25.750838Z",
          "iopub.status.idle": "2021-10-11T11:22:26.011177Z",
          "shell.execute_reply": "2021-10-11T11:22:26.010136Z",
          "shell.execute_reply.started": "2021-10-11T11:22:25.751083Z"
        },
        "trusted": true,
        "colab": {
          "base_uri": "https://localhost:8080/"
        },
        "id": "yKKKhf5ICuge",
        "outputId": "92bd7b9a-2920-4741-ba48-692767b23575"
      },
      "outputs": [
        {
          "output_type": "stream",
          "name": "stdout",
          "text": [
            "Total number of sequences in the Corpus: 3823\n"
          ]
        }
      ],
      "source": [
        "#Splitting the Corpus in equal length of strings and output target\n",
        "length = 40\n",
        "features = []\n",
        "targets = []\n",
        "Corpus = [tuple(note) if isinstance(note, np.ndarray) else note for note in Corpus]\n",
        "for i in range(0, L_corpus - length, 1):\n",
        "    feature = Corpus[i:i + length]\n",
        "    target = Corpus[i + length]\n",
        "    features.append([mapping[j] for j in feature])\n",
        "    targets.append(mapping[target])\n",
        "\n",
        "\n",
        "L_datapoints = len(targets)\n",
        "print(\"Total number of sequences in the Corpus:\", L_datapoints)"
      ]
    },
    {
      "cell_type": "code",
      "execution_count": null,
      "metadata": {
        "execution": {
          "iopub.execute_input": "2021-10-11T11:22:26.012960Z",
          "iopub.status.busy": "2021-10-11T11:22:26.012606Z",
          "iopub.status.idle": "2021-10-11T11:22:26.491054Z",
          "shell.execute_reply": "2021-10-11T11:22:26.490304Z",
          "shell.execute_reply.started": "2021-10-11T11:22:26.012924Z"
        },
        "trusted": true,
        "id": "GJ0JkdOpCuge"
      },
      "outputs": [],
      "source": [
        "# reshape X and normalize\n",
        "X = (np.reshape(features, (L_datapoints, length, 1)))/ float(L_symb)\n",
        "# one hot encode the output variable\n",
        "y = tensorflow.keras.utils.to_categorical(targets)"
      ]
    },
    {
      "cell_type": "markdown",
      "metadata": {
        "id": "TuqckRFCCugf"
      },
      "source": [
        "**Splitting Train and Seed datasets**"
      ]
    },
    {
      "cell_type": "code",
      "execution_count": null,
      "metadata": {
        "execution": {
          "iopub.execute_input": "2021-10-11T11:22:26.492824Z",
          "iopub.status.busy": "2021-10-11T11:22:26.492546Z",
          "iopub.status.idle": "2021-10-11T11:22:26.534046Z",
          "shell.execute_reply": "2021-10-11T11:22:26.533177Z",
          "shell.execute_reply.started": "2021-10-11T11:22:26.492789Z"
        },
        "trusted": true,
        "id": "FCCg6lNfCugf"
      },
      "outputs": [],
      "source": [
        "#Taking out a subset of data to be used as seed\n",
        "X_train, X_seed, y_train, y_seed = train_test_split(X, y, test_size=0.2, random_state=42)"
      ]
    },
    {
      "cell_type": "markdown",
      "metadata": {
        "id": "yoNw5UQhCugf"
      },
      "source": [
        "<a id=\"5\"></a>\n",
        "# <p style=\"background-color:#97BACB;font-family:newtimeroman;color:#EBDDD0;font-size:120%;text-align:center;border-radius:40px 40px;\">MODEL BUILDING</p>\n",
        "\n",
        "I will be employing an LSTM for this project.\n",
        "\n",
        "**Following steps are involved in the model building**\n",
        "\n",
        "* Initialising the Model\n",
        "* Defining by adding layers\n",
        "* Compiling the Model\n",
        "* Training the Model\n",
        "\n",
        "**Building the Model**"
      ]
    },
    {
      "cell_type": "code",
      "execution_count": null,
      "metadata": {
        "_kg_hide-output": true,
        "execution": {
          "iopub.execute_input": "2021-10-11T11:22:26.536044Z",
          "iopub.status.busy": "2021-10-11T11:22:26.535608Z",
          "iopub.status.idle": "2021-10-11T11:22:29.074068Z",
          "shell.execute_reply": "2021-10-11T11:22:29.073278Z",
          "shell.execute_reply.started": "2021-10-11T11:22:26.535998Z"
        },
        "trusted": true,
        "id": "z2bSiY2hCugf"
      },
      "outputs": [],
      "source": [
        "# #Initialising the Model\n",
        "# model = Sequential()\n",
        "# #Adding layers\n",
        "# model.add(LSTM(512, input_shape=(X.shape[1], X.shape[2]), return_sequences=True))\n",
        "# model.add(Dropout(0.1))\n",
        "# model.add(LSTM(256))\n",
        "# model.add(Dense(256))\n",
        "# model.add(Dropout(0.1))\n",
        "# model.add(Dense(y.shape[1], activation='softmax'))\n",
        "# #Compiling the model for training\n",
        "# opt = Adamax(learning_rate=0.01)\n",
        "# model.compile(loss='categorical_crossentropy', optimizer=opt)\n"
      ]
    },
    {
      "cell_type": "code",
      "source": [
        "from tensorflow.keras.models import Sequential\n",
        "from tensorflow.keras.layers import LSTM, Dropout, Dense, BatchNormalization\n",
        "from tensorflow.keras.optimizers import Adamax\n",
        "from tensorflow.keras.callbacks import EarlyStopping\n",
        "\n",
        "# Assuming X and y are your input and target data\n",
        "\n",
        "# Initialising the Model\n",
        "model = Sequential()\n",
        "\n",
        "# Adding layers\n",
        "model.add(LSTM(512, input_shape=(X.shape[1], X.shape[2]), return_sequences=True))\n",
        "model.add(Dropout(0.3))  # Increased dropout for better regularization\n",
        "model.add(BatchNormalization())  # Added Batch Normalization for stability\n",
        "model.add(LSTM(256, return_sequences=True))\n",
        "model.add(Dropout(0.3))  # Increased dropout for better regularization\n",
        "model.add(BatchNormalization())  # Added Batch Normalization for stability\n",
        "model.add(LSTM(128, return_sequences=True))\n",
        "model.add(Dropout(0.3))  # Increased dropout for better regularization\n",
        "model.add(BatchNormalization())  # Added Batch Normalization for stability\n",
        "model.add(LSTM(64))\n",
        "model.add(Dense(256, activation='relu'))  # Adding activation function\n",
        "model.add(Dropout(0.3))  # Increased dropout for better regularization\n",
        "model.add(Dense(y.shape[1], activation='softmax'))\n",
        "\n",
        "# Compiling the model for training\n",
        "opt = Adamax(learning_rate=0.001)  # Adjusted learning rate\n",
        "model.compile(loss='categorical_crossentropy', optimizer=opt, metrics=['accuracy'])  # Added accuracy metric\n",
        "\n",
        "# Adding EarlyStopping callback to prevent overfitting\n",
        "early_stopping = EarlyStopping(monitor='val_loss', patience=10, restore_best_weights=True)\n"
      ],
      "metadata": {
        "id": "VNBlKZSaFIHY"
      },
      "execution_count": null,
      "outputs": []
    },
    {
      "cell_type": "code",
      "execution_count": null,
      "metadata": {
        "execution": {
          "iopub.execute_input": "2021-10-11T11:22:29.075722Z",
          "iopub.status.busy": "2021-10-11T11:22:29.075442Z",
          "iopub.status.idle": "2021-10-11T11:22:29.086510Z",
          "shell.execute_reply": "2021-10-11T11:22:29.085555Z",
          "shell.execute_reply.started": "2021-10-11T11:22:29.075690Z"
        },
        "trusted": true,
        "colab": {
          "base_uri": "https://localhost:8080/"
        },
        "id": "I7cYVyO4Cugf",
        "outputId": "3ad82c98-ac73-4150-b638-543dec620b0a"
      },
      "outputs": [
        {
          "output_type": "stream",
          "name": "stdout",
          "text": [
            "Model: \"sequential_1\"\n",
            "_________________________________________________________________\n",
            " Layer (type)                Output Shape              Param #   \n",
            "=================================================================\n",
            " lstm_4 (LSTM)               (None, 40, 512)           1052672   \n",
            "                                                                 \n",
            " dropout_4 (Dropout)         (None, 40, 512)           0         \n",
            "                                                                 \n",
            " batch_normalization_3 (Bat  (None, 40, 512)           2048      \n",
            " chNormalization)                                                \n",
            "                                                                 \n",
            " lstm_5 (LSTM)               (None, 40, 256)           787456    \n",
            "                                                                 \n",
            " dropout_5 (Dropout)         (None, 40, 256)           0         \n",
            "                                                                 \n",
            " batch_normalization_4 (Bat  (None, 40, 256)           1024      \n",
            " chNormalization)                                                \n",
            "                                                                 \n",
            " lstm_6 (LSTM)               (None, 40, 128)           197120    \n",
            "                                                                 \n",
            " dropout_6 (Dropout)         (None, 40, 128)           0         \n",
            "                                                                 \n",
            " batch_normalization_5 (Bat  (None, 40, 128)           512       \n",
            " chNormalization)                                                \n",
            "                                                                 \n",
            " lstm_7 (LSTM)               (None, 64)                49408     \n",
            "                                                                 \n",
            " dense_2 (Dense)             (None, 256)               16640     \n",
            "                                                                 \n",
            " dropout_7 (Dropout)         (None, 256)               0         \n",
            "                                                                 \n",
            " dense_3 (Dense)             (None, 254)               65278     \n",
            "                                                                 \n",
            "=================================================================\n",
            "Total params: 2172158 (8.29 MB)\n",
            "Trainable params: 2170366 (8.28 MB)\n",
            "Non-trainable params: 1792 (7.00 KB)\n",
            "_________________________________________________________________\n"
          ]
        }
      ],
      "source": [
        "#Model's Summary\n",
        "model.summary()"
      ]
    },
    {
      "cell_type": "code",
      "execution_count": null,
      "metadata": {
        "_kg_hide-output": true,
        "execution": {
          "iopub.execute_input": "2021-10-11T11:22:29.088315Z",
          "iopub.status.busy": "2021-10-11T11:22:29.088068Z",
          "iopub.status.idle": "2021-10-11T11:39:04.559223Z",
          "shell.execute_reply": "2021-10-11T11:39:04.558518Z",
          "shell.execute_reply.started": "2021-10-11T11:22:29.088288Z"
        },
        "trusted": true,
        "colab": {
          "base_uri": "https://localhost:8080/"
        },
        "id": "fk2Ux56HCugg",
        "outputId": "72ec6733-36fb-4123-bc8b-2bf9d5486aa5"
      },
      "outputs": [
        {
          "output_type": "stream",
          "name": "stdout",
          "text": [
            "Epoch 1/500\n",
            "12/12 [==============================] - 1s 65ms/step - loss: 3.7107 - accuracy: 0.1298\n",
            "Epoch 2/500\n",
            "12/12 [==============================] - 1s 59ms/step - loss: 3.6883 - accuracy: 0.1331\n",
            "Epoch 3/500\n",
            "12/12 [==============================] - 1s 60ms/step - loss: 3.6794 - accuracy: 0.1256\n",
            "Epoch 4/500\n",
            "12/12 [==============================] - 1s 60ms/step - loss: 3.6825 - accuracy: 0.1409\n",
            "Epoch 5/500\n",
            "12/12 [==============================] - 1s 61ms/step - loss: 3.6430 - accuracy: 0.1396\n",
            "Epoch 6/500\n",
            "12/12 [==============================] - 1s 60ms/step - loss: 3.6324 - accuracy: 0.1295\n",
            "Epoch 7/500\n",
            "12/12 [==============================] - 1s 58ms/step - loss: 3.6375 - accuracy: 0.1400\n",
            "Epoch 8/500\n",
            "12/12 [==============================] - 1s 58ms/step - loss: 3.6064 - accuracy: 0.1367\n",
            "Epoch 9/500\n",
            "12/12 [==============================] - 1s 58ms/step - loss: 3.5969 - accuracy: 0.1442\n",
            "Epoch 10/500\n",
            "12/12 [==============================] - 1s 57ms/step - loss: 3.5873 - accuracy: 0.1308\n",
            "Epoch 11/500\n",
            "12/12 [==============================] - 1s 58ms/step - loss: 3.5763 - accuracy: 0.1393\n",
            "Epoch 12/500\n",
            "12/12 [==============================] - 1s 58ms/step - loss: 3.5524 - accuracy: 0.1521\n",
            "Epoch 13/500\n",
            "12/12 [==============================] - 1s 59ms/step - loss: 3.5534 - accuracy: 0.1400\n",
            "Epoch 14/500\n",
            "12/12 [==============================] - 1s 57ms/step - loss: 3.5334 - accuracy: 0.1452\n",
            "Epoch 15/500\n",
            "12/12 [==============================] - 1s 58ms/step - loss: 3.5352 - accuracy: 0.1514\n",
            "Epoch 16/500\n",
            "12/12 [==============================] - 1s 58ms/step - loss: 3.5622 - accuracy: 0.1305\n",
            "Epoch 17/500\n",
            "12/12 [==============================] - 1s 59ms/step - loss: 3.4979 - accuracy: 0.1442\n",
            "Epoch 18/500\n",
            "12/12 [==============================] - 1s 58ms/step - loss: 3.4693 - accuracy: 0.1491\n",
            "Epoch 19/500\n",
            "12/12 [==============================] - 1s 58ms/step - loss: 3.4505 - accuracy: 0.1530\n",
            "Epoch 20/500\n",
            "12/12 [==============================] - 1s 58ms/step - loss: 3.4539 - accuracy: 0.1593\n",
            "Epoch 21/500\n",
            "12/12 [==============================] - 1s 62ms/step - loss: 3.4020 - accuracy: 0.1648\n",
            "Epoch 22/500\n",
            "12/12 [==============================] - 1s 60ms/step - loss: 3.4135 - accuracy: 0.1517\n",
            "Epoch 23/500\n",
            "12/12 [==============================] - 1s 59ms/step - loss: 3.4126 - accuracy: 0.1596\n",
            "Epoch 24/500\n",
            "12/12 [==============================] - 1s 61ms/step - loss: 3.4210 - accuracy: 0.1593\n",
            "Epoch 25/500\n",
            "12/12 [==============================] - 1s 61ms/step - loss: 3.4041 - accuracy: 0.1619\n",
            "Epoch 26/500\n",
            "12/12 [==============================] - 1s 63ms/step - loss: 3.3650 - accuracy: 0.1661\n",
            "Epoch 27/500\n",
            "12/12 [==============================] - 1s 61ms/step - loss: 3.3520 - accuracy: 0.1746\n",
            "Epoch 28/500\n",
            "12/12 [==============================] - 1s 59ms/step - loss: 3.3342 - accuracy: 0.1678\n",
            "Epoch 29/500\n",
            "12/12 [==============================] - 1s 59ms/step - loss: 3.3074 - accuracy: 0.1740\n",
            "Epoch 30/500\n",
            "12/12 [==============================] - 1s 61ms/step - loss: 3.3200 - accuracy: 0.1733\n",
            "Epoch 31/500\n",
            "12/12 [==============================] - 1s 61ms/step - loss: 3.2886 - accuracy: 0.1782\n",
            "Epoch 32/500\n",
            "12/12 [==============================] - 1s 60ms/step - loss: 3.3049 - accuracy: 0.1818\n",
            "Epoch 33/500\n",
            "12/12 [==============================] - 1s 59ms/step - loss: 3.2767 - accuracy: 0.1802\n",
            "Epoch 34/500\n",
            "12/12 [==============================] - 1s 59ms/step - loss: 3.2916 - accuracy: 0.1776\n",
            "Epoch 35/500\n",
            "12/12 [==============================] - 1s 59ms/step - loss: 3.2610 - accuracy: 0.1808\n",
            "Epoch 36/500\n",
            "12/12 [==============================] - 1s 59ms/step - loss: 3.2638 - accuracy: 0.1848\n",
            "Epoch 37/500\n",
            "12/12 [==============================] - 1s 60ms/step - loss: 3.2499 - accuracy: 0.1841\n",
            "Epoch 38/500\n",
            "12/12 [==============================] - 1s 61ms/step - loss: 3.2420 - accuracy: 0.1795\n",
            "Epoch 39/500\n",
            "12/12 [==============================] - 1s 61ms/step - loss: 3.2335 - accuracy: 0.1805\n",
            "Epoch 40/500\n",
            "12/12 [==============================] - 1s 59ms/step - loss: 3.1955 - accuracy: 0.1884\n",
            "Epoch 41/500\n",
            "12/12 [==============================] - 1s 59ms/step - loss: 3.1738 - accuracy: 0.1962\n",
            "Epoch 42/500\n",
            "12/12 [==============================] - 1s 59ms/step - loss: 3.1513 - accuracy: 0.1995\n",
            "Epoch 43/500\n",
            "12/12 [==============================] - 1s 59ms/step - loss: 3.1237 - accuracy: 0.2031\n",
            "Epoch 44/500\n",
            "12/12 [==============================] - 1s 60ms/step - loss: 3.1453 - accuracy: 0.1887\n",
            "Epoch 45/500\n",
            "12/12 [==============================] - 1s 59ms/step - loss: 3.1124 - accuracy: 0.2021\n",
            "Epoch 46/500\n",
            "12/12 [==============================] - 1s 60ms/step - loss: 3.0955 - accuracy: 0.1942\n",
            "Epoch 47/500\n",
            "12/12 [==============================] - 1s 61ms/step - loss: 3.1021 - accuracy: 0.2005\n",
            "Epoch 48/500\n",
            "12/12 [==============================] - 1s 61ms/step - loss: 3.1059 - accuracy: 0.2001\n",
            "Epoch 49/500\n",
            "12/12 [==============================] - 1s 61ms/step - loss: 3.1156 - accuracy: 0.1929\n",
            "Epoch 50/500\n",
            "12/12 [==============================] - 1s 61ms/step - loss: 3.0788 - accuracy: 0.2027\n",
            "Epoch 51/500\n",
            "12/12 [==============================] - 1s 62ms/step - loss: 3.0850 - accuracy: 0.1949\n",
            "Epoch 52/500\n",
            "12/12 [==============================] - 1s 61ms/step - loss: 3.0426 - accuracy: 0.2093\n",
            "Epoch 53/500\n",
            "12/12 [==============================] - 1s 62ms/step - loss: 3.0230 - accuracy: 0.2227\n",
            "Epoch 54/500\n",
            "12/12 [==============================] - 1s 61ms/step - loss: 2.9908 - accuracy: 0.2237\n",
            "Epoch 55/500\n",
            "12/12 [==============================] - 1s 60ms/step - loss: 2.9986 - accuracy: 0.2139\n",
            "Epoch 56/500\n",
            "12/12 [==============================] - 1s 61ms/step - loss: 3.0261 - accuracy: 0.2086\n",
            "Epoch 57/500\n",
            "12/12 [==============================] - 1s 59ms/step - loss: 2.9895 - accuracy: 0.2224\n",
            "Epoch 58/500\n",
            "12/12 [==============================] - 1s 59ms/step - loss: 2.9383 - accuracy: 0.2191\n",
            "Epoch 59/500\n",
            "12/12 [==============================] - 1s 61ms/step - loss: 2.9556 - accuracy: 0.2230\n",
            "Epoch 60/500\n",
            "12/12 [==============================] - 1s 59ms/step - loss: 2.9646 - accuracy: 0.2194\n",
            "Epoch 61/500\n",
            "12/12 [==============================] - 1s 59ms/step - loss: 2.9368 - accuracy: 0.2184\n",
            "Epoch 62/500\n",
            "12/12 [==============================] - 1s 60ms/step - loss: 2.9626 - accuracy: 0.2155\n",
            "Epoch 63/500\n",
            "12/12 [==============================] - 1s 59ms/step - loss: 2.9436 - accuracy: 0.2309\n",
            "Epoch 64/500\n",
            "12/12 [==============================] - 1s 59ms/step - loss: 2.8986 - accuracy: 0.2260\n",
            "Epoch 65/500\n",
            "12/12 [==============================] - 1s 59ms/step - loss: 2.9243 - accuracy: 0.2256\n",
            "Epoch 66/500\n",
            "12/12 [==============================] - 1s 59ms/step - loss: 2.9130 - accuracy: 0.2240\n",
            "Epoch 67/500\n",
            "12/12 [==============================] - 1s 59ms/step - loss: 2.9078 - accuracy: 0.2266\n",
            "Epoch 68/500\n",
            "12/12 [==============================] - 1s 60ms/step - loss: 2.8342 - accuracy: 0.2397\n",
            "Epoch 69/500\n",
            "12/12 [==============================] - 1s 59ms/step - loss: 2.8327 - accuracy: 0.2417\n",
            "Epoch 70/500\n",
            "12/12 [==============================] - 1s 59ms/step - loss: 2.8290 - accuracy: 0.2381\n",
            "Epoch 71/500\n",
            "12/12 [==============================] - 1s 61ms/step - loss: 2.8398 - accuracy: 0.2417\n",
            "Epoch 72/500\n",
            "12/12 [==============================] - 1s 60ms/step - loss: 2.7941 - accuracy: 0.2544\n",
            "Epoch 73/500\n",
            "12/12 [==============================] - 1s 61ms/step - loss: 2.7946 - accuracy: 0.2459\n",
            "Epoch 74/500\n",
            "12/12 [==============================] - 1s 61ms/step - loss: 2.7832 - accuracy: 0.2361\n",
            "Epoch 75/500\n",
            "12/12 [==============================] - 1s 60ms/step - loss: 2.7791 - accuracy: 0.2560\n",
            "Epoch 76/500\n",
            "12/12 [==============================] - 1s 60ms/step - loss: 2.7476 - accuracy: 0.2564\n",
            "Epoch 77/500\n",
            "12/12 [==============================] - 1s 61ms/step - loss: 2.7678 - accuracy: 0.2495\n",
            "Epoch 78/500\n",
            "12/12 [==============================] - 1s 61ms/step - loss: 2.7470 - accuracy: 0.2577\n",
            "Epoch 79/500\n",
            "12/12 [==============================] - 1s 62ms/step - loss: 2.7659 - accuracy: 0.2433\n",
            "Epoch 80/500\n",
            "12/12 [==============================] - 1s 60ms/step - loss: 2.7015 - accuracy: 0.2652\n",
            "Epoch 81/500\n",
            "12/12 [==============================] - 1s 61ms/step - loss: 2.6891 - accuracy: 0.2632\n",
            "Epoch 82/500\n",
            "12/12 [==============================] - 1s 60ms/step - loss: 2.6836 - accuracy: 0.2623\n",
            "Epoch 83/500\n",
            "12/12 [==============================] - 1s 59ms/step - loss: 2.7204 - accuracy: 0.2449\n",
            "Epoch 84/500\n",
            "12/12 [==============================] - 1s 59ms/step - loss: 2.7033 - accuracy: 0.2642\n",
            "Epoch 85/500\n",
            "12/12 [==============================] - 1s 59ms/step - loss: 2.7050 - accuracy: 0.2636\n",
            "Epoch 86/500\n",
            "12/12 [==============================] - 1s 59ms/step - loss: 2.6411 - accuracy: 0.2799\n",
            "Epoch 87/500\n",
            "12/12 [==============================] - 1s 59ms/step - loss: 2.6301 - accuracy: 0.2731\n",
            "Epoch 88/500\n",
            "12/12 [==============================] - 1s 58ms/step - loss: 2.6355 - accuracy: 0.2747\n",
            "Epoch 89/500\n",
            "12/12 [==============================] - 1s 59ms/step - loss: 2.5995 - accuracy: 0.2717\n",
            "Epoch 90/500\n",
            "12/12 [==============================] - 1s 59ms/step - loss: 2.6021 - accuracy: 0.2802\n",
            "Epoch 91/500\n",
            "12/12 [==============================] - 1s 58ms/step - loss: 2.5762 - accuracy: 0.2763\n",
            "Epoch 92/500\n",
            "12/12 [==============================] - 1s 59ms/step - loss: 2.5757 - accuracy: 0.2835\n",
            "Epoch 93/500\n",
            "12/12 [==============================] - 1s 59ms/step - loss: 2.5511 - accuracy: 0.2871\n",
            "Epoch 94/500\n",
            "12/12 [==============================] - 1s 59ms/step - loss: 2.6029 - accuracy: 0.2626\n",
            "Epoch 95/500\n",
            "12/12 [==============================] - 1s 59ms/step - loss: 2.5530 - accuracy: 0.2865\n",
            "Epoch 96/500\n",
            "12/12 [==============================] - 1s 60ms/step - loss: 2.5381 - accuracy: 0.2897\n",
            "Epoch 97/500\n",
            "12/12 [==============================] - 1s 60ms/step - loss: 2.5328 - accuracy: 0.2937\n",
            "Epoch 98/500\n",
            "12/12 [==============================] - 1s 59ms/step - loss: 2.5210 - accuracy: 0.2930\n",
            "Epoch 99/500\n",
            "12/12 [==============================] - 1s 61ms/step - loss: 2.5007 - accuracy: 0.2822\n",
            "Epoch 100/500\n",
            "12/12 [==============================] - 1s 60ms/step - loss: 2.4575 - accuracy: 0.3002\n",
            "Epoch 101/500\n",
            "12/12 [==============================] - 1s 79ms/step - loss: 2.4892 - accuracy: 0.2973\n",
            "Epoch 102/500\n",
            "12/12 [==============================] - 1s 74ms/step - loss: 2.5369 - accuracy: 0.2802\n",
            "Epoch 103/500\n",
            "12/12 [==============================] - 1s 71ms/step - loss: 2.4339 - accuracy: 0.3120\n",
            "Epoch 104/500\n",
            "12/12 [==============================] - 1s 79ms/step - loss: 2.4241 - accuracy: 0.3035\n",
            "Epoch 105/500\n",
            "12/12 [==============================] - 1s 62ms/step - loss: 2.4294 - accuracy: 0.3025\n",
            "Epoch 106/500\n",
            "12/12 [==============================] - 1s 60ms/step - loss: 2.4460 - accuracy: 0.3172\n",
            "Epoch 107/500\n",
            "12/12 [==============================] - 1s 60ms/step - loss: 2.4265 - accuracy: 0.3185\n",
            "Epoch 108/500\n",
            "12/12 [==============================] - 1s 58ms/step - loss: 2.4195 - accuracy: 0.3090\n",
            "Epoch 109/500\n",
            "12/12 [==============================] - 1s 58ms/step - loss: 2.4107 - accuracy: 0.3094\n",
            "Epoch 110/500\n",
            "12/12 [==============================] - 1s 59ms/step - loss: 2.4428 - accuracy: 0.3012\n",
            "Epoch 111/500\n",
            "12/12 [==============================] - 1s 58ms/step - loss: 2.4127 - accuracy: 0.3064\n",
            "Epoch 112/500\n",
            "12/12 [==============================] - 1s 59ms/step - loss: 2.3621 - accuracy: 0.3136\n",
            "Epoch 113/500\n",
            "12/12 [==============================] - 1s 58ms/step - loss: 2.3620 - accuracy: 0.3123\n",
            "Epoch 114/500\n",
            "12/12 [==============================] - 1s 59ms/step - loss: 2.3810 - accuracy: 0.3188\n",
            "Epoch 115/500\n",
            "12/12 [==============================] - 1s 59ms/step - loss: 2.3448 - accuracy: 0.3198\n",
            "Epoch 116/500\n",
            "12/12 [==============================] - 1s 59ms/step - loss: 2.3280 - accuracy: 0.3303\n",
            "Epoch 117/500\n",
            "12/12 [==============================] - 1s 59ms/step - loss: 2.3355 - accuracy: 0.3349\n",
            "Epoch 118/500\n",
            "12/12 [==============================] - 1s 59ms/step - loss: 2.2921 - accuracy: 0.3398\n",
            "Epoch 119/500\n",
            "12/12 [==============================] - 1s 58ms/step - loss: 2.3317 - accuracy: 0.3228\n",
            "Epoch 120/500\n",
            "12/12 [==============================] - 1s 59ms/step - loss: 2.2860 - accuracy: 0.3394\n",
            "Epoch 121/500\n",
            "12/12 [==============================] - 1s 60ms/step - loss: 2.2892 - accuracy: 0.3296\n",
            "Epoch 122/500\n",
            "12/12 [==============================] - 1s 61ms/step - loss: 2.2530 - accuracy: 0.3447\n",
            "Epoch 123/500\n",
            "12/12 [==============================] - 1s 60ms/step - loss: 2.3033 - accuracy: 0.3290\n",
            "Epoch 124/500\n",
            "12/12 [==============================] - 1s 61ms/step - loss: 2.2596 - accuracy: 0.3457\n",
            "Epoch 125/500\n",
            "12/12 [==============================] - 1s 60ms/step - loss: 2.2366 - accuracy: 0.3339\n",
            "Epoch 126/500\n",
            "12/12 [==============================] - 1s 60ms/step - loss: 2.2451 - accuracy: 0.3388\n",
            "Epoch 127/500\n",
            "12/12 [==============================] - 1s 59ms/step - loss: 2.2466 - accuracy: 0.3342\n",
            "Epoch 128/500\n",
            "12/12 [==============================] - 1s 61ms/step - loss: 2.2353 - accuracy: 0.3398\n",
            "Epoch 129/500\n",
            "12/12 [==============================] - 1s 61ms/step - loss: 2.2526 - accuracy: 0.3388\n",
            "Epoch 130/500\n",
            "12/12 [==============================] - 1s 61ms/step - loss: 2.2361 - accuracy: 0.3453\n",
            "Epoch 131/500\n",
            "12/12 [==============================] - 1s 61ms/step - loss: 2.2029 - accuracy: 0.3591\n",
            "Epoch 132/500\n",
            "12/12 [==============================] - 1s 60ms/step - loss: 2.1995 - accuracy: 0.3512\n",
            "Epoch 133/500\n",
            "12/12 [==============================] - 1s 59ms/step - loss: 2.1824 - accuracy: 0.3460\n",
            "Epoch 134/500\n",
            "12/12 [==============================] - 1s 59ms/step - loss: 2.1878 - accuracy: 0.3512\n",
            "Epoch 135/500\n",
            "12/12 [==============================] - 1s 58ms/step - loss: 2.1673 - accuracy: 0.3682\n",
            "Epoch 136/500\n",
            "12/12 [==============================] - 1s 59ms/step - loss: 2.1722 - accuracy: 0.3640\n",
            "Epoch 137/500\n",
            "12/12 [==============================] - 1s 59ms/step - loss: 2.1734 - accuracy: 0.3594\n",
            "Epoch 138/500\n",
            "12/12 [==============================] - 1s 59ms/step - loss: 2.1624 - accuracy: 0.3633\n",
            "Epoch 139/500\n",
            "12/12 [==============================] - 1s 59ms/step - loss: 2.1630 - accuracy: 0.3528\n",
            "Epoch 140/500\n",
            "12/12 [==============================] - 1s 59ms/step - loss: 2.1557 - accuracy: 0.3584\n",
            "Epoch 141/500\n",
            "12/12 [==============================] - 1s 59ms/step - loss: 2.1222 - accuracy: 0.3721\n",
            "Epoch 142/500\n",
            "12/12 [==============================] - 1s 59ms/step - loss: 2.1518 - accuracy: 0.3542\n",
            "Epoch 143/500\n",
            "12/12 [==============================] - 1s 67ms/step - loss: 2.0933 - accuracy: 0.3679\n",
            "Epoch 144/500\n",
            "12/12 [==============================] - 1s 61ms/step - loss: 2.0854 - accuracy: 0.3653\n",
            "Epoch 145/500\n",
            "12/12 [==============================] - 1s 61ms/step - loss: 2.0823 - accuracy: 0.3784\n",
            "Epoch 146/500\n",
            "12/12 [==============================] - 1s 60ms/step - loss: 2.0655 - accuracy: 0.3770\n",
            "Epoch 147/500\n",
            "12/12 [==============================] - 1s 61ms/step - loss: 2.0467 - accuracy: 0.3944\n",
            "Epoch 148/500\n",
            "12/12 [==============================] - 1s 61ms/step - loss: 2.0712 - accuracy: 0.3875\n",
            "Epoch 149/500\n",
            "12/12 [==============================] - 1s 61ms/step - loss: 2.0357 - accuracy: 0.3813\n",
            "Epoch 150/500\n",
            "12/12 [==============================] - 1s 60ms/step - loss: 2.0149 - accuracy: 0.3918\n",
            "Epoch 151/500\n",
            "12/12 [==============================] - 1s 60ms/step - loss: 2.0366 - accuracy: 0.3905\n",
            "Epoch 152/500\n",
            "12/12 [==============================] - 1s 60ms/step - loss: 2.0517 - accuracy: 0.3823\n",
            "Epoch 153/500\n",
            "12/12 [==============================] - 1s 60ms/step - loss: 2.0204 - accuracy: 0.3976\n",
            "Epoch 154/500\n",
            "12/12 [==============================] - 1s 61ms/step - loss: 2.0345 - accuracy: 0.3954\n",
            "Epoch 155/500\n",
            "12/12 [==============================] - 1s 61ms/step - loss: 2.0025 - accuracy: 0.3993\n",
            "Epoch 156/500\n",
            "12/12 [==============================] - 1s 61ms/step - loss: 1.9892 - accuracy: 0.4075\n",
            "Epoch 157/500\n",
            "12/12 [==============================] - 1s 60ms/step - loss: 1.9873 - accuracy: 0.3914\n",
            "Epoch 158/500\n",
            "12/12 [==============================] - 1s 61ms/step - loss: 1.9589 - accuracy: 0.3944\n",
            "Epoch 159/500\n",
            "12/12 [==============================] - 1s 59ms/step - loss: 1.9554 - accuracy: 0.4032\n",
            "Epoch 160/500\n",
            "12/12 [==============================] - 1s 59ms/step - loss: 1.9552 - accuracy: 0.4097\n",
            "Epoch 161/500\n",
            "12/12 [==============================] - 1s 59ms/step - loss: 1.9603 - accuracy: 0.3973\n",
            "Epoch 162/500\n",
            "12/12 [==============================] - 1s 61ms/step - loss: 1.9395 - accuracy: 0.4058\n",
            "Epoch 163/500\n",
            "12/12 [==============================] - 1s 61ms/step - loss: 1.9250 - accuracy: 0.4094\n",
            "Epoch 164/500\n",
            "12/12 [==============================] - 1s 61ms/step - loss: 1.9136 - accuracy: 0.4117\n",
            "Epoch 165/500\n",
            "12/12 [==============================] - 1s 59ms/step - loss: 1.9110 - accuracy: 0.4094\n",
            "Epoch 166/500\n",
            "12/12 [==============================] - 1s 61ms/step - loss: 1.8488 - accuracy: 0.4356\n",
            "Epoch 167/500\n",
            "12/12 [==============================] - 1s 59ms/step - loss: 1.8711 - accuracy: 0.4212\n",
            "Epoch 168/500\n",
            "12/12 [==============================] - 1s 59ms/step - loss: 1.8828 - accuracy: 0.4356\n",
            "Epoch 169/500\n",
            "12/12 [==============================] - 1s 59ms/step - loss: 1.8848 - accuracy: 0.4163\n",
            "Epoch 170/500\n",
            "12/12 [==============================] - 1s 60ms/step - loss: 1.8265 - accuracy: 0.4313\n",
            "Epoch 171/500\n",
            "12/12 [==============================] - 1s 60ms/step - loss: 1.8640 - accuracy: 0.4186\n",
            "Epoch 172/500\n",
            "12/12 [==============================] - 1s 61ms/step - loss: 1.8322 - accuracy: 0.4411\n",
            "Epoch 173/500\n",
            "12/12 [==============================] - 1s 62ms/step - loss: 1.8157 - accuracy: 0.4385\n",
            "Epoch 174/500\n",
            "12/12 [==============================] - 1s 60ms/step - loss: 1.8547 - accuracy: 0.4264\n",
            "Epoch 175/500\n",
            "12/12 [==============================] - 1s 61ms/step - loss: 1.8221 - accuracy: 0.4297\n",
            "Epoch 176/500\n",
            "12/12 [==============================] - 1s 61ms/step - loss: 1.8327 - accuracy: 0.4339\n",
            "Epoch 177/500\n",
            "12/12 [==============================] - 1s 60ms/step - loss: 1.8063 - accuracy: 0.4402\n",
            "Epoch 178/500\n",
            "12/12 [==============================] - 1s 61ms/step - loss: 1.7955 - accuracy: 0.4402\n",
            "Epoch 179/500\n",
            "12/12 [==============================] - 1s 61ms/step - loss: 1.7560 - accuracy: 0.4657\n",
            "Epoch 180/500\n",
            "12/12 [==============================] - 1s 61ms/step - loss: 1.7916 - accuracy: 0.4402\n",
            "Epoch 181/500\n",
            "12/12 [==============================] - 1s 61ms/step - loss: 1.7842 - accuracy: 0.4493\n",
            "Epoch 182/500\n",
            "12/12 [==============================] - 1s 60ms/step - loss: 1.7806 - accuracy: 0.4526\n",
            "Epoch 183/500\n",
            "12/12 [==============================] - 1s 59ms/step - loss: 1.7507 - accuracy: 0.4572\n",
            "Epoch 184/500\n",
            "12/12 [==============================] - 1s 60ms/step - loss: 1.7858 - accuracy: 0.4490\n",
            "Epoch 185/500\n",
            "12/12 [==============================] - 1s 59ms/step - loss: 1.7461 - accuracy: 0.4614\n",
            "Epoch 186/500\n",
            "12/12 [==============================] - 1s 59ms/step - loss: 1.7452 - accuracy: 0.4536\n",
            "Epoch 187/500\n",
            "12/12 [==============================] - 1s 59ms/step - loss: 1.7871 - accuracy: 0.4398\n",
            "Epoch 188/500\n",
            "12/12 [==============================] - 1s 59ms/step - loss: 1.7825 - accuracy: 0.4379\n",
            "Epoch 189/500\n",
            "12/12 [==============================] - 1s 59ms/step - loss: 1.8218 - accuracy: 0.4287\n",
            "Epoch 190/500\n",
            "12/12 [==============================] - 1s 59ms/step - loss: 1.7448 - accuracy: 0.4496\n",
            "Epoch 191/500\n",
            "12/12 [==============================] - 1s 59ms/step - loss: 1.7088 - accuracy: 0.4617\n",
            "Epoch 192/500\n",
            "12/12 [==============================] - 1s 59ms/step - loss: 1.6823 - accuracy: 0.4666\n",
            "Epoch 193/500\n",
            "12/12 [==============================] - 1s 60ms/step - loss: 1.7346 - accuracy: 0.4559\n",
            "Epoch 194/500\n",
            "12/12 [==============================] - 1s 59ms/step - loss: 1.6812 - accuracy: 0.4562\n",
            "Epoch 195/500\n",
            "12/12 [==============================] - 1s 59ms/step - loss: 1.6703 - accuracy: 0.4751\n",
            "Epoch 196/500\n",
            "12/12 [==============================] - 1s 59ms/step - loss: 1.6670 - accuracy: 0.4722\n",
            "Epoch 197/500\n",
            "12/12 [==============================] - 1s 61ms/step - loss: 1.7040 - accuracy: 0.4624\n",
            "Epoch 198/500\n",
            "12/12 [==============================] - 1s 60ms/step - loss: 1.6614 - accuracy: 0.4886\n",
            "Epoch 199/500\n",
            "12/12 [==============================] - 1s 61ms/step - loss: 1.6091 - accuracy: 0.4768\n",
            "Epoch 200/500\n",
            "12/12 [==============================] - 1s 61ms/step - loss: 1.6337 - accuracy: 0.4899\n",
            "Epoch 201/500\n",
            "12/12 [==============================] - 1s 59ms/step - loss: 1.6985 - accuracy: 0.4680\n",
            "Epoch 202/500\n",
            "12/12 [==============================] - 1s 61ms/step - loss: 1.6206 - accuracy: 0.4974\n",
            "Epoch 203/500\n",
            "12/12 [==============================] - 1s 61ms/step - loss: 1.6084 - accuracy: 0.4922\n",
            "Epoch 204/500\n",
            "12/12 [==============================] - 1s 61ms/step - loss: 1.6084 - accuracy: 0.4850\n",
            "Epoch 205/500\n",
            "12/12 [==============================] - 1s 61ms/step - loss: 1.6171 - accuracy: 0.4863\n",
            "Epoch 206/500\n",
            "12/12 [==============================] - 1s 60ms/step - loss: 1.5849 - accuracy: 0.5039\n",
            "Epoch 207/500\n",
            "12/12 [==============================] - 1s 61ms/step - loss: 1.5677 - accuracy: 0.5013\n",
            "Epoch 208/500\n",
            "12/12 [==============================] - 1s 59ms/step - loss: 1.5367 - accuracy: 0.5124\n",
            "Epoch 209/500\n",
            "12/12 [==============================] - 1s 58ms/step - loss: 1.6012 - accuracy: 0.4846\n",
            "Epoch 210/500\n",
            "12/12 [==============================] - 1s 61ms/step - loss: 1.5576 - accuracy: 0.5069\n",
            "Epoch 211/500\n",
            "12/12 [==============================] - 1s 59ms/step - loss: 1.5746 - accuracy: 0.5003\n",
            "Epoch 212/500\n",
            "12/12 [==============================] - 1s 61ms/step - loss: 1.5598 - accuracy: 0.4977\n",
            "Epoch 213/500\n",
            "12/12 [==============================] - 1s 58ms/step - loss: 1.5312 - accuracy: 0.5170\n",
            "Epoch 214/500\n",
            "12/12 [==============================] - 1s 59ms/step - loss: 1.5466 - accuracy: 0.5013\n",
            "Epoch 215/500\n",
            "12/12 [==============================] - 1s 59ms/step - loss: 1.5379 - accuracy: 0.5085\n",
            "Epoch 216/500\n",
            "12/12 [==============================] - 1s 59ms/step - loss: 1.5394 - accuracy: 0.5046\n",
            "Epoch 217/500\n",
            "12/12 [==============================] - 1s 59ms/step - loss: 1.5234 - accuracy: 0.5088\n",
            "Epoch 218/500\n",
            "12/12 [==============================] - 1s 59ms/step - loss: 1.5024 - accuracy: 0.5186\n",
            "Epoch 219/500\n",
            "12/12 [==============================] - 1s 59ms/step - loss: 1.5081 - accuracy: 0.5111\n",
            "Epoch 220/500\n",
            "12/12 [==============================] - 1s 59ms/step - loss: 1.4918 - accuracy: 0.5307\n",
            "Epoch 221/500\n",
            "12/12 [==============================] - 1s 59ms/step - loss: 1.4939 - accuracy: 0.5265\n",
            "Epoch 222/500\n",
            "12/12 [==============================] - 1s 61ms/step - loss: 1.5548 - accuracy: 0.4948\n",
            "Epoch 223/500\n",
            "12/12 [==============================] - 1s 61ms/step - loss: 1.5293 - accuracy: 0.5193\n",
            "Epoch 224/500\n",
            "12/12 [==============================] - 1s 61ms/step - loss: 1.4626 - accuracy: 0.5288\n",
            "Epoch 225/500\n",
            "12/12 [==============================] - 1s 62ms/step - loss: 1.4145 - accuracy: 0.5494\n",
            "Epoch 226/500\n",
            "12/12 [==============================] - 1s 61ms/step - loss: 1.4753 - accuracy: 0.5219\n",
            "Epoch 227/500\n",
            "12/12 [==============================] - 1s 61ms/step - loss: 1.5110 - accuracy: 0.5154\n",
            "Epoch 228/500\n",
            "12/12 [==============================] - 1s 61ms/step - loss: 1.5027 - accuracy: 0.5281\n",
            "Epoch 229/500\n",
            "12/12 [==============================] - 1s 61ms/step - loss: 1.4503 - accuracy: 0.5294\n",
            "Epoch 230/500\n",
            "12/12 [==============================] - 1s 61ms/step - loss: 1.4184 - accuracy: 0.5481\n",
            "Epoch 231/500\n",
            "12/12 [==============================] - 1s 61ms/step - loss: 1.4269 - accuracy: 0.5425\n",
            "Epoch 232/500\n",
            "12/12 [==============================] - 1s 61ms/step - loss: 1.4496 - accuracy: 0.5461\n",
            "Epoch 233/500\n",
            "12/12 [==============================] - 1s 60ms/step - loss: 1.4415 - accuracy: 0.5399\n",
            "Epoch 234/500\n",
            "12/12 [==============================] - 1s 60ms/step - loss: 1.4348 - accuracy: 0.5510\n",
            "Epoch 235/500\n",
            "12/12 [==============================] - 1s 59ms/step - loss: 1.4385 - accuracy: 0.5432\n",
            "Epoch 236/500\n",
            "12/12 [==============================] - 1s 58ms/step - loss: 1.3871 - accuracy: 0.5513\n",
            "Epoch 237/500\n",
            "12/12 [==============================] - 1s 59ms/step - loss: 1.3804 - accuracy: 0.5549\n",
            "Epoch 238/500\n",
            "12/12 [==============================] - 1s 59ms/step - loss: 1.3961 - accuracy: 0.5428\n",
            "Epoch 239/500\n",
            "12/12 [==============================] - 1s 59ms/step - loss: 1.3563 - accuracy: 0.5559\n",
            "Epoch 240/500\n",
            "12/12 [==============================] - 1s 59ms/step - loss: 1.3405 - accuracy: 0.5638\n",
            "Epoch 241/500\n",
            "12/12 [==============================] - 1s 59ms/step - loss: 1.4611 - accuracy: 0.5356\n",
            "Epoch 242/500\n",
            "12/12 [==============================] - 1s 60ms/step - loss: 1.3961 - accuracy: 0.5399\n",
            "Epoch 243/500\n",
            "12/12 [==============================] - 1s 59ms/step - loss: 1.3754 - accuracy: 0.5530\n",
            "Epoch 244/500\n",
            "12/12 [==============================] - 1s 61ms/step - loss: 1.3189 - accuracy: 0.5654\n",
            "Epoch 245/500\n",
            "12/12 [==============================] - 1s 59ms/step - loss: 1.3768 - accuracy: 0.5605\n",
            "Epoch 246/500\n",
            "12/12 [==============================] - 1s 59ms/step - loss: 1.3588 - accuracy: 0.5549\n",
            "Epoch 247/500\n",
            "12/12 [==============================] - 1s 60ms/step - loss: 1.3391 - accuracy: 0.5621\n",
            "Epoch 248/500\n",
            "12/12 [==============================] - 1s 61ms/step - loss: 1.3640 - accuracy: 0.5559\n",
            "Epoch 249/500\n",
            "12/12 [==============================] - 1s 61ms/step - loss: 1.3057 - accuracy: 0.5765\n",
            "Epoch 250/500\n",
            "12/12 [==============================] - 1s 59ms/step - loss: 1.3182 - accuracy: 0.5788\n",
            "Epoch 251/500\n",
            "12/12 [==============================] - 1s 61ms/step - loss: 1.3173 - accuracy: 0.5641\n",
            "Epoch 252/500\n",
            "12/12 [==============================] - 1s 60ms/step - loss: 1.3085 - accuracy: 0.5765\n",
            "Epoch 253/500\n",
            "12/12 [==============================] - 1s 61ms/step - loss: 1.3112 - accuracy: 0.5778\n",
            "Epoch 254/500\n",
            "12/12 [==============================] - 1s 60ms/step - loss: 1.2909 - accuracy: 0.5723\n",
            "Epoch 255/500\n",
            "12/12 [==============================] - 1s 61ms/step - loss: 1.2931 - accuracy: 0.5791\n",
            "Epoch 256/500\n",
            "12/12 [==============================] - 1s 60ms/step - loss: 1.2917 - accuracy: 0.5837\n",
            "Epoch 257/500\n",
            "12/12 [==============================] - 1s 61ms/step - loss: 1.3301 - accuracy: 0.5677\n",
            "Epoch 258/500\n",
            "12/12 [==============================] - 1s 60ms/step - loss: 1.2972 - accuracy: 0.5752\n",
            "Epoch 259/500\n",
            "12/12 [==============================] - 1s 61ms/step - loss: 1.3588 - accuracy: 0.5500\n",
            "Epoch 260/500\n",
            "12/12 [==============================] - 1s 61ms/step - loss: 1.2853 - accuracy: 0.5785\n",
            "Epoch 261/500\n",
            "12/12 [==============================] - 1s 59ms/step - loss: 1.2803 - accuracy: 0.5821\n",
            "Epoch 262/500\n",
            "12/12 [==============================] - 1s 59ms/step - loss: 1.2550 - accuracy: 0.5876\n",
            "Epoch 263/500\n",
            "12/12 [==============================] - 1s 59ms/step - loss: 1.2374 - accuracy: 0.6004\n",
            "Epoch 264/500\n",
            "12/12 [==============================] - 1s 61ms/step - loss: 1.2583 - accuracy: 0.5804\n",
            "Epoch 265/500\n",
            "12/12 [==============================] - 1s 59ms/step - loss: 1.2453 - accuracy: 0.5873\n",
            "Epoch 266/500\n",
            "12/12 [==============================] - 1s 59ms/step - loss: 1.2315 - accuracy: 0.5971\n",
            "Epoch 267/500\n",
            "12/12 [==============================] - 1s 59ms/step - loss: 1.1952 - accuracy: 0.6102\n",
            "Epoch 268/500\n",
            "12/12 [==============================] - 1s 63ms/step - loss: 1.1840 - accuracy: 0.6210\n",
            "Epoch 269/500\n",
            "12/12 [==============================] - 1s 64ms/step - loss: 1.1984 - accuracy: 0.6056\n",
            "Epoch 270/500\n",
            "12/12 [==============================] - 1s 68ms/step - loss: 1.1938 - accuracy: 0.6138\n",
            "Epoch 271/500\n",
            "12/12 [==============================] - 1s 61ms/step - loss: 1.2204 - accuracy: 0.5991\n",
            "Epoch 272/500\n",
            "12/12 [==============================] - 1s 60ms/step - loss: 1.2025 - accuracy: 0.6079\n",
            "Epoch 273/500\n",
            "12/12 [==============================] - 1s 60ms/step - loss: 1.1572 - accuracy: 0.6226\n",
            "Epoch 274/500\n",
            "12/12 [==============================] - 1s 60ms/step - loss: 1.1982 - accuracy: 0.6010\n",
            "Epoch 275/500\n",
            "12/12 [==============================] - 1s 60ms/step - loss: 1.1887 - accuracy: 0.6118\n",
            "Epoch 276/500\n",
            "12/12 [==============================] - 1s 61ms/step - loss: 1.1481 - accuracy: 0.6279\n",
            "Epoch 277/500\n",
            "12/12 [==============================] - 1s 61ms/step - loss: 1.2103 - accuracy: 0.5952\n",
            "Epoch 278/500\n",
            "12/12 [==============================] - 1s 61ms/step - loss: 1.2330 - accuracy: 0.6030\n",
            "Epoch 279/500\n",
            "12/12 [==============================] - 1s 60ms/step - loss: 1.1697 - accuracy: 0.6118\n",
            "Epoch 280/500\n",
            "12/12 [==============================] - 1s 60ms/step - loss: 1.1799 - accuracy: 0.6095\n",
            "Epoch 281/500\n",
            "12/12 [==============================] - 1s 61ms/step - loss: 1.1833 - accuracy: 0.6069\n",
            "Epoch 282/500\n",
            "12/12 [==============================] - 1s 60ms/step - loss: 1.1293 - accuracy: 0.6275\n",
            "Epoch 283/500\n",
            "12/12 [==============================] - 1s 61ms/step - loss: 1.1227 - accuracy: 0.6390\n",
            "Epoch 284/500\n",
            "12/12 [==============================] - 1s 60ms/step - loss: 1.1123 - accuracy: 0.6364\n",
            "Epoch 285/500\n",
            "12/12 [==============================] - 1s 59ms/step - loss: 1.1373 - accuracy: 0.6288\n",
            "Epoch 286/500\n",
            "12/12 [==============================] - 1s 59ms/step - loss: 1.0817 - accuracy: 0.6436\n",
            "Epoch 287/500\n",
            "12/12 [==============================] - 1s 59ms/step - loss: 1.1471 - accuracy: 0.6282\n",
            "Epoch 288/500\n",
            "12/12 [==============================] - 1s 59ms/step - loss: 1.1563 - accuracy: 0.6174\n",
            "Epoch 289/500\n",
            "12/12 [==============================] - 1s 59ms/step - loss: 1.0889 - accuracy: 0.6458\n",
            "Epoch 290/500\n",
            "12/12 [==============================] - 1s 59ms/step - loss: 1.0890 - accuracy: 0.6426\n",
            "Epoch 291/500\n",
            "12/12 [==============================] - 1s 59ms/step - loss: 1.0820 - accuracy: 0.6517\n",
            "Epoch 292/500\n",
            "12/12 [==============================] - 1s 59ms/step - loss: 1.0790 - accuracy: 0.6344\n",
            "Epoch 293/500\n",
            "12/12 [==============================] - 1s 59ms/step - loss: 1.1072 - accuracy: 0.6324\n",
            "Epoch 294/500\n",
            "12/12 [==============================] - 1s 59ms/step - loss: 1.0735 - accuracy: 0.6465\n",
            "Epoch 295/500\n",
            "12/12 [==============================] - 1s 61ms/step - loss: 1.0780 - accuracy: 0.6465\n",
            "Epoch 296/500\n",
            "12/12 [==============================] - 1s 59ms/step - loss: 1.0719 - accuracy: 0.6576\n",
            "Epoch 297/500\n",
            "12/12 [==============================] - 1s 59ms/step - loss: 1.0918 - accuracy: 0.6452\n",
            "Epoch 298/500\n",
            "12/12 [==============================] - 1s 59ms/step - loss: 1.0603 - accuracy: 0.6406\n",
            "Epoch 299/500\n",
            "12/12 [==============================] - 1s 61ms/step - loss: 1.0112 - accuracy: 0.6681\n",
            "Epoch 300/500\n",
            "12/12 [==============================] - 1s 60ms/step - loss: 1.1208 - accuracy: 0.6324\n",
            "Epoch 301/500\n",
            "12/12 [==============================] - 1s 60ms/step - loss: 1.0166 - accuracy: 0.6642\n",
            "Epoch 302/500\n",
            "12/12 [==============================] - 1s 59ms/step - loss: 1.0262 - accuracy: 0.6704\n",
            "Epoch 303/500\n",
            "12/12 [==============================] - 1s 61ms/step - loss: 1.0806 - accuracy: 0.6452\n",
            "Epoch 304/500\n",
            "12/12 [==============================] - 1s 60ms/step - loss: 1.0699 - accuracy: 0.6439\n",
            "Epoch 305/500\n",
            "12/12 [==============================] - 1s 61ms/step - loss: 1.0875 - accuracy: 0.6269\n",
            "Epoch 306/500\n",
            "12/12 [==============================] - 1s 60ms/step - loss: 0.9833 - accuracy: 0.6740\n",
            "Epoch 307/500\n",
            "12/12 [==============================] - 1s 61ms/step - loss: 1.0218 - accuracy: 0.6540\n",
            "Epoch 308/500\n",
            "12/12 [==============================] - 1s 60ms/step - loss: 1.0155 - accuracy: 0.6691\n",
            "Epoch 309/500\n",
            "12/12 [==============================] - 1s 60ms/step - loss: 1.0861 - accuracy: 0.6511\n",
            "Epoch 310/500\n",
            "12/12 [==============================] - 1s 59ms/step - loss: 0.9725 - accuracy: 0.6740\n",
            "Epoch 311/500\n",
            "12/12 [==============================] - 1s 59ms/step - loss: 1.0096 - accuracy: 0.6681\n",
            "Epoch 312/500\n",
            "12/12 [==============================] - 1s 59ms/step - loss: 1.0045 - accuracy: 0.6638\n",
            "Epoch 313/500\n",
            "12/12 [==============================] - 1s 60ms/step - loss: 1.0488 - accuracy: 0.6514\n",
            "Epoch 314/500\n",
            "12/12 [==============================] - 1s 59ms/step - loss: 1.0004 - accuracy: 0.6632\n",
            "Epoch 315/500\n",
            "12/12 [==============================] - 1s 61ms/step - loss: 0.9866 - accuracy: 0.6753\n",
            "Epoch 316/500\n",
            "12/12 [==============================] - 1s 59ms/step - loss: 0.9892 - accuracy: 0.6776\n",
            "Epoch 317/500\n",
            "12/12 [==============================] - 1s 59ms/step - loss: 0.9876 - accuracy: 0.6785\n",
            "Epoch 318/500\n",
            "12/12 [==============================] - 1s 60ms/step - loss: 0.9774 - accuracy: 0.6606\n",
            "Epoch 319/500\n",
            "12/12 [==============================] - 1s 59ms/step - loss: 0.9434 - accuracy: 0.6874\n",
            "Epoch 320/500\n",
            "12/12 [==============================] - 1s 59ms/step - loss: 1.0083 - accuracy: 0.6684\n",
            "Epoch 321/500\n",
            "12/12 [==============================] - 1s 59ms/step - loss: 0.9584 - accuracy: 0.6812\n",
            "Epoch 322/500\n",
            "12/12 [==============================] - 1s 61ms/step - loss: 0.9387 - accuracy: 0.6910\n",
            "Epoch 323/500\n",
            "12/12 [==============================] - 1s 59ms/step - loss: 0.9359 - accuracy: 0.6978\n",
            "Epoch 324/500\n",
            "12/12 [==============================] - 1s 62ms/step - loss: 0.9450 - accuracy: 0.6975\n",
            "Epoch 325/500\n",
            "12/12 [==============================] - 1s 60ms/step - loss: 0.9617 - accuracy: 0.6821\n",
            "Epoch 326/500\n",
            "12/12 [==============================] - 1s 60ms/step - loss: 0.9378 - accuracy: 0.6831\n",
            "Epoch 327/500\n",
            "12/12 [==============================] - 1s 61ms/step - loss: 0.9471 - accuracy: 0.6946\n",
            "Epoch 328/500\n",
            "12/12 [==============================] - 1s 61ms/step - loss: 0.9903 - accuracy: 0.6736\n",
            "Epoch 329/500\n",
            "12/12 [==============================] - 1s 61ms/step - loss: 0.9167 - accuracy: 0.6939\n",
            "Epoch 330/500\n",
            "12/12 [==============================] - 1s 60ms/step - loss: 0.9312 - accuracy: 0.6916\n",
            "Epoch 331/500\n",
            "12/12 [==============================] - 1s 61ms/step - loss: 0.9867 - accuracy: 0.6769\n",
            "Epoch 332/500\n",
            "12/12 [==============================] - 1s 59ms/step - loss: 0.9204 - accuracy: 0.6880\n",
            "Epoch 333/500\n",
            "12/12 [==============================] - 1s 61ms/step - loss: 0.9086 - accuracy: 0.7057\n",
            "Epoch 334/500\n",
            "12/12 [==============================] - 1s 61ms/step - loss: 0.9041 - accuracy: 0.6933\n",
            "Epoch 335/500\n",
            "12/12 [==============================] - 1s 60ms/step - loss: 0.9269 - accuracy: 0.6848\n",
            "Epoch 336/500\n",
            "12/12 [==============================] - 1s 61ms/step - loss: 0.8864 - accuracy: 0.7096\n",
            "Epoch 337/500\n",
            "12/12 [==============================] - 1s 59ms/step - loss: 0.8884 - accuracy: 0.7008\n",
            "Epoch 338/500\n",
            "12/12 [==============================] - 1s 61ms/step - loss: 0.9241 - accuracy: 0.6890\n",
            "Epoch 339/500\n",
            "12/12 [==============================] - 1s 60ms/step - loss: 0.9285 - accuracy: 0.6965\n",
            "Epoch 340/500\n",
            "12/12 [==============================] - 1s 59ms/step - loss: 0.9263 - accuracy: 0.6988\n",
            "Epoch 341/500\n",
            "12/12 [==============================] - 1s 59ms/step - loss: 0.9089 - accuracy: 0.6949\n",
            "Epoch 342/500\n",
            "12/12 [==============================] - 1s 61ms/step - loss: 0.8701 - accuracy: 0.7112\n",
            "Epoch 343/500\n",
            "12/12 [==============================] - 1s 59ms/step - loss: 0.8451 - accuracy: 0.7260\n",
            "Epoch 344/500\n",
            "12/12 [==============================] - 1s 59ms/step - loss: 0.8702 - accuracy: 0.7034\n",
            "Epoch 345/500\n",
            "12/12 [==============================] - 1s 60ms/step - loss: 0.8739 - accuracy: 0.7119\n",
            "Epoch 346/500\n",
            "12/12 [==============================] - 1s 59ms/step - loss: 0.8635 - accuracy: 0.7142\n",
            "Epoch 347/500\n",
            "12/12 [==============================] - 1s 60ms/step - loss: 0.8609 - accuracy: 0.7155\n",
            "Epoch 348/500\n",
            "12/12 [==============================] - 1s 61ms/step - loss: 0.8332 - accuracy: 0.7283\n",
            "Epoch 349/500\n",
            "12/12 [==============================] - 1s 61ms/step - loss: 0.8440 - accuracy: 0.7240\n",
            "Epoch 350/500\n",
            "12/12 [==============================] - 1s 62ms/step - loss: 0.8650 - accuracy: 0.7129\n",
            "Epoch 351/500\n",
            "12/12 [==============================] - 1s 60ms/step - loss: 0.8779 - accuracy: 0.7024\n",
            "Epoch 352/500\n",
            "12/12 [==============================] - 1s 61ms/step - loss: 0.8662 - accuracy: 0.7116\n",
            "Epoch 353/500\n",
            "12/12 [==============================] - 1s 61ms/step - loss: 0.8506 - accuracy: 0.7220\n",
            "Epoch 354/500\n",
            "12/12 [==============================] - 1s 61ms/step - loss: 0.8748 - accuracy: 0.7106\n",
            "Epoch 355/500\n",
            "12/12 [==============================] - 1s 61ms/step - loss: 0.8408 - accuracy: 0.7175\n",
            "Epoch 356/500\n",
            "12/12 [==============================] - 1s 60ms/step - loss: 0.8412 - accuracy: 0.7250\n",
            "Epoch 357/500\n",
            "12/12 [==============================] - 1s 60ms/step - loss: 0.8034 - accuracy: 0.7292\n",
            "Epoch 358/500\n",
            "12/12 [==============================] - 1s 61ms/step - loss: 0.8600 - accuracy: 0.7178\n",
            "Epoch 359/500\n",
            "12/12 [==============================] - 1s 61ms/step - loss: 0.7946 - accuracy: 0.7361\n",
            "Epoch 360/500\n",
            "12/12 [==============================] - 1s 61ms/step - loss: 0.7934 - accuracy: 0.7446\n",
            "Epoch 361/500\n",
            "12/12 [==============================] - 1s 61ms/step - loss: 0.8047 - accuracy: 0.7332\n",
            "Epoch 362/500\n",
            "12/12 [==============================] - 1s 60ms/step - loss: 0.7963 - accuracy: 0.7358\n",
            "Epoch 363/500\n",
            "12/12 [==============================] - 1s 60ms/step - loss: 0.8001 - accuracy: 0.7325\n",
            "Epoch 364/500\n",
            "12/12 [==============================] - 1s 61ms/step - loss: 0.8580 - accuracy: 0.7152\n",
            "Epoch 365/500\n",
            "12/12 [==============================] - 1s 61ms/step - loss: 0.8376 - accuracy: 0.7263\n",
            "Epoch 366/500\n",
            "12/12 [==============================] - 1s 60ms/step - loss: 0.8793 - accuracy: 0.7047\n",
            "Epoch 367/500\n",
            "12/12 [==============================] - 1s 61ms/step - loss: 0.8250 - accuracy: 0.7243\n",
            "Epoch 368/500\n",
            "12/12 [==============================] - 1s 61ms/step - loss: 0.8461 - accuracy: 0.7260\n",
            "Epoch 369/500\n",
            "12/12 [==============================] - 1s 61ms/step - loss: 0.7859 - accuracy: 0.7374\n",
            "Epoch 370/500\n",
            "12/12 [==============================] - 1s 61ms/step - loss: 0.8083 - accuracy: 0.7351\n",
            "Epoch 371/500\n",
            "12/12 [==============================] - 1s 61ms/step - loss: 0.7734 - accuracy: 0.7472\n",
            "Epoch 372/500\n",
            "12/12 [==============================] - 1s 60ms/step - loss: 0.8305 - accuracy: 0.7096\n",
            "Epoch 373/500\n",
            "12/12 [==============================] - 1s 61ms/step - loss: 0.7854 - accuracy: 0.7332\n",
            "Epoch 374/500\n",
            "12/12 [==============================] - 1s 59ms/step - loss: 0.7675 - accuracy: 0.7423\n",
            "Epoch 375/500\n",
            "12/12 [==============================] - 1s 60ms/step - loss: 0.7474 - accuracy: 0.7554\n",
            "Epoch 376/500\n",
            "12/12 [==============================] - 1s 60ms/step - loss: 0.7723 - accuracy: 0.7410\n",
            "Epoch 377/500\n",
            "12/12 [==============================] - 1s 61ms/step - loss: 0.7760 - accuracy: 0.7443\n",
            "Epoch 378/500\n",
            "12/12 [==============================] - 1s 61ms/step - loss: 0.7938 - accuracy: 0.7377\n",
            "Epoch 379/500\n",
            "12/12 [==============================] - 1s 60ms/step - loss: 0.8377 - accuracy: 0.7260\n",
            "Epoch 380/500\n",
            "12/12 [==============================] - 1s 60ms/step - loss: 0.7966 - accuracy: 0.7309\n",
            "Epoch 381/500\n",
            "12/12 [==============================] - 1s 61ms/step - loss: 0.7875 - accuracy: 0.7436\n",
            "Epoch 382/500\n",
            "12/12 [==============================] - 1s 61ms/step - loss: 0.7488 - accuracy: 0.7560\n",
            "Epoch 383/500\n",
            "12/12 [==============================] - 1s 61ms/step - loss: 0.7581 - accuracy: 0.7498\n",
            "Epoch 384/500\n",
            "12/12 [==============================] - 1s 59ms/step - loss: 0.7218 - accuracy: 0.7593\n",
            "Epoch 385/500\n",
            "12/12 [==============================] - 1s 61ms/step - loss: 0.7540 - accuracy: 0.7577\n",
            "Epoch 386/500\n",
            "12/12 [==============================] - 1s 61ms/step - loss: 0.7201 - accuracy: 0.7744\n",
            "Epoch 387/500\n",
            "12/12 [==============================] - 1s 61ms/step - loss: 0.7128 - accuracy: 0.7753\n",
            "Epoch 388/500\n",
            "12/12 [==============================] - 1s 59ms/step - loss: 0.6955 - accuracy: 0.7721\n",
            "Epoch 389/500\n",
            "12/12 [==============================] - 1s 61ms/step - loss: 0.7241 - accuracy: 0.7574\n",
            "Epoch 390/500\n",
            "12/12 [==============================] - 1s 59ms/step - loss: 0.6930 - accuracy: 0.7678\n",
            "Epoch 391/500\n",
            "12/12 [==============================] - 1s 61ms/step - loss: 0.6897 - accuracy: 0.7783\n",
            "Epoch 392/500\n",
            "12/12 [==============================] - 1s 60ms/step - loss: 0.6917 - accuracy: 0.7753\n",
            "Epoch 393/500\n",
            "12/12 [==============================] - 1s 61ms/step - loss: 0.7305 - accuracy: 0.7508\n",
            "Epoch 394/500\n",
            "12/12 [==============================] - 1s 60ms/step - loss: 0.6981 - accuracy: 0.7727\n",
            "Epoch 395/500\n",
            "12/12 [==============================] - 1s 60ms/step - loss: 0.6747 - accuracy: 0.7767\n",
            "Epoch 396/500\n",
            "12/12 [==============================] - 1s 59ms/step - loss: 0.7255 - accuracy: 0.7567\n",
            "Epoch 397/500\n",
            "12/12 [==============================] - 1s 60ms/step - loss: 0.7190 - accuracy: 0.7577\n",
            "Epoch 398/500\n",
            "12/12 [==============================] - 1s 61ms/step - loss: 0.6747 - accuracy: 0.7757\n",
            "Epoch 399/500\n",
            "12/12 [==============================] - 1s 60ms/step - loss: 0.7200 - accuracy: 0.7636\n",
            "Epoch 400/500\n",
            "12/12 [==============================] - 1s 60ms/step - loss: 0.7202 - accuracy: 0.7632\n",
            "Epoch 401/500\n",
            "12/12 [==============================] - 1s 61ms/step - loss: 0.6950 - accuracy: 0.7688\n",
            "Epoch 402/500\n",
            "12/12 [==============================] - 1s 62ms/step - loss: 0.7705 - accuracy: 0.7554\n",
            "Epoch 403/500\n",
            "12/12 [==============================] - 1s 61ms/step - loss: 0.7367 - accuracy: 0.7472\n",
            "Epoch 404/500\n",
            "12/12 [==============================] - 1s 60ms/step - loss: 0.7003 - accuracy: 0.7724\n",
            "Epoch 405/500\n",
            "12/12 [==============================] - 1s 60ms/step - loss: 0.6496 - accuracy: 0.7894\n",
            "Epoch 406/500\n",
            "12/12 [==============================] - 1s 61ms/step - loss: 0.7423 - accuracy: 0.7646\n",
            "Epoch 407/500\n",
            "12/12 [==============================] - 1s 61ms/step - loss: 0.6928 - accuracy: 0.7724\n",
            "Epoch 408/500\n",
            "12/12 [==============================] - 1s 62ms/step - loss: 0.6908 - accuracy: 0.7701\n",
            "Epoch 409/500\n",
            "12/12 [==============================] - 1s 60ms/step - loss: 0.6587 - accuracy: 0.7737\n",
            "Epoch 410/500\n",
            "12/12 [==============================] - 1s 62ms/step - loss: 0.7182 - accuracy: 0.7577\n",
            "Epoch 411/500\n",
            "12/12 [==============================] - 1s 61ms/step - loss: 0.6872 - accuracy: 0.7780\n",
            "Epoch 412/500\n",
            "12/12 [==============================] - 1s 61ms/step - loss: 0.6280 - accuracy: 0.8009\n",
            "Epoch 413/500\n",
            "12/12 [==============================] - 1s 61ms/step - loss: 0.6338 - accuracy: 0.7943\n",
            "Epoch 414/500\n",
            "12/12 [==============================] - 1s 59ms/step - loss: 0.6235 - accuracy: 0.7963\n",
            "Epoch 415/500\n",
            "12/12 [==============================] - 1s 59ms/step - loss: 0.6414 - accuracy: 0.7861\n",
            "Epoch 416/500\n",
            "12/12 [==============================] - 1s 60ms/step - loss: 0.6650 - accuracy: 0.7750\n",
            "Epoch 417/500\n",
            "12/12 [==============================] - 1s 59ms/step - loss: 0.6321 - accuracy: 0.7959\n",
            "Epoch 418/500\n",
            "12/12 [==============================] - 1s 61ms/step - loss: 0.6492 - accuracy: 0.7796\n",
            "Epoch 419/500\n",
            "12/12 [==============================] - 1s 61ms/step - loss: 0.5848 - accuracy: 0.8133\n",
            "Epoch 420/500\n",
            "12/12 [==============================] - 1s 59ms/step - loss: 0.6191 - accuracy: 0.7950\n",
            "Epoch 421/500\n",
            "12/12 [==============================] - 1s 59ms/step - loss: 0.6276 - accuracy: 0.7982\n",
            "Epoch 422/500\n",
            "12/12 [==============================] - 1s 60ms/step - loss: 0.6415 - accuracy: 0.7763\n",
            "Epoch 423/500\n",
            "12/12 [==============================] - 1s 58ms/step - loss: 0.6036 - accuracy: 0.7950\n",
            "Epoch 424/500\n",
            "12/12 [==============================] - 1s 61ms/step - loss: 0.6419 - accuracy: 0.7871\n",
            "Epoch 425/500\n",
            "12/12 [==============================] - 1s 61ms/step - loss: 0.6483 - accuracy: 0.7861\n",
            "Epoch 426/500\n",
            "12/12 [==============================] - 1s 61ms/step - loss: 0.5974 - accuracy: 0.8074\n",
            "Epoch 427/500\n",
            "12/12 [==============================] - 1s 59ms/step - loss: 0.6208 - accuracy: 0.8002\n",
            "Epoch 428/500\n",
            "12/12 [==============================] - 1s 62ms/step - loss: 0.6013 - accuracy: 0.8035\n",
            "Epoch 429/500\n",
            "12/12 [==============================] - 1s 61ms/step - loss: 0.5831 - accuracy: 0.8133\n",
            "Epoch 430/500\n",
            "12/12 [==============================] - 1s 61ms/step - loss: 0.6160 - accuracy: 0.7966\n",
            "Epoch 431/500\n",
            "12/12 [==============================] - 1s 61ms/step - loss: 0.5781 - accuracy: 0.8094\n",
            "Epoch 432/500\n",
            "12/12 [==============================] - 1s 61ms/step - loss: 0.6997 - accuracy: 0.7714\n",
            "Epoch 433/500\n",
            "12/12 [==============================] - 1s 61ms/step - loss: 0.6419 - accuracy: 0.7888\n",
            "Epoch 434/500\n",
            "12/12 [==============================] - 1s 60ms/step - loss: 0.6636 - accuracy: 0.7858\n",
            "Epoch 435/500\n",
            "12/12 [==============================] - 1s 60ms/step - loss: 0.6101 - accuracy: 0.8022\n",
            "Epoch 436/500\n",
            "12/12 [==============================] - 1s 61ms/step - loss: 0.6005 - accuracy: 0.8044\n",
            "Epoch 437/500\n",
            "12/12 [==============================] - 1s 61ms/step - loss: 0.5883 - accuracy: 0.8005\n",
            "Epoch 438/500\n",
            "12/12 [==============================] - 1s 61ms/step - loss: 0.6221 - accuracy: 0.8005\n",
            "Epoch 439/500\n",
            "12/12 [==============================] - 1s 61ms/step - loss: 0.6300 - accuracy: 0.7937\n",
            "Epoch 440/500\n",
            "12/12 [==============================] - 1s 59ms/step - loss: 0.5834 - accuracy: 0.8126\n",
            "Epoch 441/500\n",
            "12/12 [==============================] - 1s 59ms/step - loss: 0.5535 - accuracy: 0.8175\n",
            "Epoch 442/500\n",
            "12/12 [==============================] - 1s 59ms/step - loss: 0.5889 - accuracy: 0.8074\n",
            "Epoch 443/500\n",
            "12/12 [==============================] - 1s 60ms/step - loss: 0.6053 - accuracy: 0.8012\n",
            "Epoch 444/500\n",
            "12/12 [==============================] - 1s 60ms/step - loss: 0.6300 - accuracy: 0.7897\n",
            "Epoch 445/500\n",
            "12/12 [==============================] - 1s 60ms/step - loss: 0.6219 - accuracy: 0.7920\n",
            "Epoch 446/500\n",
            "12/12 [==============================] - 1s 61ms/step - loss: 0.6120 - accuracy: 0.7937\n",
            "Epoch 447/500\n",
            "12/12 [==============================] - 1s 61ms/step - loss: 0.5985 - accuracy: 0.8058\n",
            "Epoch 448/500\n",
            "12/12 [==============================] - 1s 60ms/step - loss: 0.5795 - accuracy: 0.8159\n",
            "Epoch 449/500\n",
            "12/12 [==============================] - 1s 60ms/step - loss: 0.5433 - accuracy: 0.8215\n",
            "Epoch 450/500\n",
            "12/12 [==============================] - 1s 61ms/step - loss: 0.5702 - accuracy: 0.8044\n",
            "Epoch 451/500\n",
            "12/12 [==============================] - 1s 59ms/step - loss: 0.5521 - accuracy: 0.8231\n",
            "Epoch 452/500\n",
            "12/12 [==============================] - 1s 59ms/step - loss: 0.5936 - accuracy: 0.8084\n",
            "Epoch 453/500\n",
            "12/12 [==============================] - 1s 60ms/step - loss: 0.5389 - accuracy: 0.8280\n",
            "Epoch 454/500\n",
            "12/12 [==============================] - 1s 60ms/step - loss: 0.5108 - accuracy: 0.8394\n",
            "Epoch 455/500\n",
            "12/12 [==============================] - 1s 61ms/step - loss: 0.5647 - accuracy: 0.8182\n",
            "Epoch 456/500\n",
            "12/12 [==============================] - 1s 61ms/step - loss: 0.5870 - accuracy: 0.8169\n",
            "Epoch 457/500\n",
            "12/12 [==============================] - 1s 61ms/step - loss: 0.5191 - accuracy: 0.8264\n",
            "Epoch 458/500\n",
            "12/12 [==============================] - 1s 61ms/step - loss: 0.5680 - accuracy: 0.8107\n",
            "Epoch 459/500\n",
            "12/12 [==============================] - 1s 60ms/step - loss: 0.5131 - accuracy: 0.8398\n",
            "Epoch 460/500\n",
            "12/12 [==============================] - 1s 61ms/step - loss: 0.5767 - accuracy: 0.8159\n",
            "Epoch 461/500\n",
            "12/12 [==============================] - 1s 61ms/step - loss: 0.5499 - accuracy: 0.8231\n",
            "Epoch 462/500\n",
            "12/12 [==============================] - 1s 61ms/step - loss: 0.5297 - accuracy: 0.8306\n",
            "Epoch 463/500\n",
            "12/12 [==============================] - 1s 61ms/step - loss: 0.5771 - accuracy: 0.8129\n",
            "Epoch 464/500\n",
            "12/12 [==============================] - 1s 60ms/step - loss: 0.5215 - accuracy: 0.8316\n",
            "Epoch 465/500\n",
            "12/12 [==============================] - 1s 60ms/step - loss: 0.5654 - accuracy: 0.8116\n",
            "Epoch 466/500\n",
            "12/12 [==============================] - 1s 59ms/step - loss: 0.5496 - accuracy: 0.8188\n",
            "Epoch 467/500\n",
            "12/12 [==============================] - 1s 60ms/step - loss: 0.5364 - accuracy: 0.8228\n",
            "Epoch 468/500\n",
            "12/12 [==============================] - 1s 59ms/step - loss: 0.5391 - accuracy: 0.8211\n",
            "Epoch 469/500\n",
            "12/12 [==============================] - 1s 59ms/step - loss: 0.4971 - accuracy: 0.8322\n",
            "Epoch 470/500\n",
            "12/12 [==============================] - 1s 61ms/step - loss: 0.5091 - accuracy: 0.8355\n",
            "Epoch 471/500\n",
            "12/12 [==============================] - 1s 59ms/step - loss: 0.4867 - accuracy: 0.8358\n",
            "Epoch 472/500\n",
            "12/12 [==============================] - 1s 60ms/step - loss: 0.5227 - accuracy: 0.8352\n",
            "Epoch 473/500\n",
            "12/12 [==============================] - 1s 60ms/step - loss: 0.4872 - accuracy: 0.8443\n",
            "Epoch 474/500\n",
            "12/12 [==============================] - 1s 61ms/step - loss: 0.5052 - accuracy: 0.8417\n",
            "Epoch 475/500\n",
            "12/12 [==============================] - 1s 61ms/step - loss: 0.4902 - accuracy: 0.8352\n",
            "Epoch 476/500\n",
            "12/12 [==============================] - 1s 59ms/step - loss: 0.4989 - accuracy: 0.8381\n",
            "Epoch 477/500\n",
            "12/12 [==============================] - 1s 60ms/step - loss: 0.4715 - accuracy: 0.8460\n",
            "Epoch 478/500\n",
            "12/12 [==============================] - 1s 58ms/step - loss: 0.4999 - accuracy: 0.8437\n",
            "Epoch 479/500\n",
            "12/12 [==============================] - 1s 59ms/step - loss: 0.5254 - accuracy: 0.8316\n",
            "Epoch 480/500\n",
            "12/12 [==============================] - 1s 61ms/step - loss: 0.5307 - accuracy: 0.8303\n",
            "Epoch 481/500\n",
            "12/12 [==============================] - 1s 59ms/step - loss: 0.5369 - accuracy: 0.8241\n",
            "Epoch 482/500\n",
            "12/12 [==============================] - 1s 61ms/step - loss: 0.4853 - accuracy: 0.8378\n",
            "Epoch 483/500\n",
            "12/12 [==============================] - 1s 60ms/step - loss: 0.4582 - accuracy: 0.8470\n",
            "Epoch 484/500\n",
            "12/12 [==============================] - 1s 60ms/step - loss: 0.4660 - accuracy: 0.8453\n",
            "Epoch 485/500\n",
            "12/12 [==============================] - 1s 61ms/step - loss: 0.4501 - accuracy: 0.8561\n",
            "Epoch 486/500\n",
            "12/12 [==============================] - 1s 61ms/step - loss: 0.4473 - accuracy: 0.8525\n",
            "Epoch 487/500\n",
            "12/12 [==============================] - 1s 61ms/step - loss: 0.4530 - accuracy: 0.8486\n",
            "Epoch 488/500\n",
            "12/12 [==============================] - 1s 60ms/step - loss: 0.4522 - accuracy: 0.8623\n",
            "Epoch 489/500\n",
            "12/12 [==============================] - 1s 59ms/step - loss: 0.4795 - accuracy: 0.8453\n",
            "Epoch 490/500\n",
            "12/12 [==============================] - 1s 61ms/step - loss: 0.4831 - accuracy: 0.8424\n",
            "Epoch 491/500\n",
            "12/12 [==============================] - 1s 60ms/step - loss: 0.4498 - accuracy: 0.8617\n",
            "Epoch 492/500\n",
            "12/12 [==============================] - 1s 60ms/step - loss: 0.4819 - accuracy: 0.8398\n",
            "Epoch 493/500\n",
            "12/12 [==============================] - 1s 59ms/step - loss: 0.4930 - accuracy: 0.8447\n",
            "Epoch 494/500\n",
            "12/12 [==============================] - 1s 59ms/step - loss: 0.5307 - accuracy: 0.8273\n",
            "Epoch 495/500\n",
            "12/12 [==============================] - 1s 60ms/step - loss: 0.5240 - accuracy: 0.8300\n",
            "Epoch 496/500\n",
            "12/12 [==============================] - 1s 60ms/step - loss: 0.4766 - accuracy: 0.8457\n",
            "Epoch 497/500\n",
            "12/12 [==============================] - 1s 59ms/step - loss: 0.5632 - accuracy: 0.8192\n",
            "Epoch 498/500\n",
            "12/12 [==============================] - 1s 59ms/step - loss: 0.5200 - accuracy: 0.8358\n",
            "Epoch 499/500\n",
            "12/12 [==============================] - 1s 59ms/step - loss: 0.4920 - accuracy: 0.8401\n",
            "Epoch 500/500\n",
            "12/12 [==============================] - 1s 58ms/step - loss: 0.4606 - accuracy: 0.8430\n"
          ]
        }
      ],
      "source": [
        "#Training the Model\n",
        "history = model.fit(X_train, y_train, batch_size=256, epochs=500)"
      ]
    },
    {
      "cell_type": "markdown",
      "metadata": {
        "id": "5zXQDmqjCugg"
      },
      "source": [
        "<a id=\"6\"></a>\n",
        "# <p style=\"background-color:#97BACB;font-family:newtimeroman;color:#EBDDD0;font-size:120%;text-align:center;border-radius:40px 40px;\">EVALUATING MODELS</p>\n",
        "\n",
        "Now that I have my model trained on the MIDI files of piano music, let us see how it performs.\n",
        "\n",
        "**To evaluate my model, I shall be having a look at:**\n",
        "* The performance of the model via Learning Curves\n",
        "* The melody created\n",
        "\n",
        "**Plotting the learning curve for the loss function**"
      ]
    },
    {
      "cell_type": "code",
      "source": [
        "model.save('music_model.h5')"
      ],
      "metadata": {
        "id": "xV2GBtBpgjWh"
      },
      "execution_count": null,
      "outputs": []
    },
    {
      "cell_type": "code",
      "execution_count": null,
      "metadata": {
        "execution": {
          "iopub.execute_input": "2021-10-11T11:39:04.560925Z",
          "iopub.status.busy": "2021-10-11T11:39:04.560441Z",
          "iopub.status.idle": "2021-10-11T11:39:04.933991Z",
          "shell.execute_reply": "2021-10-11T11:39:04.933094Z",
          "shell.execute_reply.started": "2021-10-11T11:39:04.560889Z"
        },
        "trusted": true,
        "colab": {
          "base_uri": "https://localhost:8080/",
          "height": 445
        },
        "id": "y5ns1GSlCugg",
        "outputId": "18ebd50c-2802-420a-f3ff-8e0a7cc61881"
      },
      "outputs": [
        {
          "output_type": "execute_result",
          "data": {
            "text/plain": [
              "[Text(0.5, 0, 'Epochs')]"
            ]
          },
          "metadata": {},
          "execution_count": 62
        },
        {
          "output_type": "display_data",
          "data": {
            "text/plain": [
              "<Figure size 1500x400 with 1 Axes>"
            ],
            "image/png": "[encoded data removed]"
          },
          "metadata": {
            "image/png": {
              "width": 1233,
              "height": 411
            }
          }
        }
      ],
      "source": [
        "#Plotting the learnings\n",
        "history_df = pd.DataFrame(history.history)\n",
        "fig = plt.figure(figsize=(15,4), facecolor=\"#97BACB\")\n",
        "fig.suptitle(\"Learning Plot of Model for Loss\")\n",
        "pl=sns.lineplot(data=history_df[\"loss\"],color=\"#444160\")\n",
        "pl.set(ylabel =\"Training Loss\")\n",
        "pl.set(xlabel =\"Epochs\")"
      ]
    },
    {
      "cell_type": "markdown",
      "metadata": {
        "id": "LNOMMDlnCugk"
      },
      "source": [
        "**Generating the Melody**\n",
        "\n",
        "A function to obtain the generated music"
      ]
    },
    {
      "cell_type": "code",
      "source": [
        "def chords_n_notes(Snippet):\n",
        "    Melody = music21.stream.Part()\n",
        "\n",
        "    for i in Snippet:\n",
        "        # If it is chord\n",
        "        if isinstance(i, tuple) or any(char.isdigit() for char in i):\n",
        "            chord_notes = i if isinstance(i, tuple) else i.split(\".\")  # Separating the notes in chord\n",
        "            notes = []\n",
        "\n",
        "            for note_str in chord_notes:\n",
        "                if note_str.isdigit():\n",
        "                    notes.append(int(note_str))\n",
        "                else:\n",
        "                    notes.append(note_str)\n",
        "\n",
        "            chord = music21.chord.Chord(notes)\n",
        "            Melody.append(chord)\n",
        "        else:\n",
        "            note = music21.note.Note(i)\n",
        "            Melody.append(note)\n",
        "\n",
        "    return Melody\n"
      ],
      "metadata": {
        "id": "XzAOP4lrvX-t"
      },
      "execution_count": null,
      "outputs": []
    },
    {
      "cell_type": "code",
      "source": [
        "# Sample from the softmax output with temperature\n",
        "def sample(preds, temperature=1.0):\n",
        "    preds = np.asarray(preds).astype('float64')\n",
        "    preds = np.log(preds) / temperature\n",
        "    exp_preds = np.exp(preds)\n",
        "    preds = exp_preds / np.sum(exp_preds)\n",
        "    probas = np.random.multinomial(1, preds, 1)\n",
        "    return np.argmax(probas)\n"
      ],
      "metadata": {
        "id": "rsLSVNNBj-6Y"
      },
      "execution_count": null,
      "outputs": []
    },
    {
      "cell_type": "code",
      "source": [
        "def generate_sequence(model, seed_sequence, length, temperature=1.0):\n",
        "    generated_sequence = seed_sequence.copy()\n",
        "\n",
        "    for _ in range(length):\n",
        "        preds = model.predict(np.expand_dims(generated_sequence, axis=0))\n",
        "        next_index = sample(preds[0, -1], temperature)\n",
        "        generated_sequence.append(next_index)\n",
        "\n",
        "    return generated_sequence\n"
      ],
      "metadata": {
        "id": "LzCAYulskBbl"
      },
      "execution_count": null,
      "outputs": []
    },
    {
      "cell_type": "code",
      "execution_count": null,
      "metadata": {
        "execution": {
          "iopub.execute_input": "2021-10-11T11:39:04.935860Z",
          "iopub.status.busy": "2021-10-11T11:39:04.935517Z",
          "iopub.status.idle": "2021-10-11T11:39:09.963958Z",
          "shell.execute_reply": "2021-10-11T11:39:09.962264Z",
          "shell.execute_reply.started": "2021-10-11T11:39:04.935822Z"
        },
        "trusted": true,
        "id": "7uLP0N75Cugk"
      },
      "outputs": [],
      "source": [
        "import tensorflow as tf\n",
        "def Malody_Generator(Note_Count,model):\n",
        "    seed = X_seed[np.random.randint(0,len(X_seed)-1)]\n",
        "    Music = \"\"\n",
        "    Notes_Generated=[]\n",
        "    for i in range(Note_Count):\n",
        "        seed = seed.reshape(1,length,1)\n",
        "        prediction = model.predict(seed, verbose=0)[0]\n",
        "        prediction = np.log(prediction) / 1.0 #diversity\n",
        "        exp_preds = np.exp(prediction)\n",
        "        prediction = exp_preds / np.sum(exp_preds)\n",
        "        index = np.argmax(prediction)\n",
        "        index_N = index/ float(L_symb)\n",
        "        Notes_Generated.append(index)\n",
        "        Music = [reverse_mapping[char] for char in Notes_Generated]\n",
        "        seed = np.insert(seed[0],len(seed[0]),index_N)\n",
        "        seed = seed[1:]\n",
        "    #Now, we have music in form or a list of chords and notes and we want to be a midi file.\n",
        "    Melody = chords_n_notes(Music)\n",
        "    Melody_midi = music21.stream.Stream(Melody)\n",
        "    return Music,Melody_midi\n",
        "\n",
        "loaded_model = tf.keras.models.load_model('/content/music_model.h5')\n",
        "#getting the Notes and Melody created by the model\n",
        "Music_notes, Melody = Malody_Generator(100,loaded_model)\n"
      ]
    },
    {
      "cell_type": "markdown",
      "metadata": {
        "id": "dBwl18MQCugk"
      },
      "source": [
        "This sure looks like music! To check if it sounds like music we have to listen to the MIDI file. Playing midi is crumblesome. I have saved and converted a few generated melodies to \".wav\" format outside of this notebook. So let us have a listen.\n",
        "\n",
        "**Melody Generated Sample 1**"
      ]
    },
    {
      "cell_type": "code",
      "execution_count": null,
      "metadata": {
        "execution": {
          "iopub.execute_input": "2021-10-11T11:39:09.966108Z",
          "iopub.status.busy": "2021-10-11T11:39:09.965793Z",
          "iopub.status.idle": "2021-10-11T11:39:10.658233Z",
          "shell.execute_reply": "2021-10-11T11:39:10.657254Z",
          "shell.execute_reply.started": "2021-10-11T11:39:09.966065Z"
        },
        "trusted": true,
        "colab": {
          "base_uri": "https://localhost:8080/",
          "height": 75
        },
        "id": "O6rzqX5NCugk",
        "outputId": "34c49fbe-61fa-4c30-c1bf-fa8db5a5c847"
      },
      "outputs": [
        {
          "output_type": "execute_result",
          "data": {
            "text/plain": [
              "<IPython.lib.display.Audio object>"
            ],
            "text/html": [
              "\n",
              "                <audio  controls=\"controls\" >\n",
              "                    <source src=\"data:audio/sp-midi;base64,TVRoZAAAAAYAAQACJ2BNVHJrAAAAFAD/UQMHoSAA/1gEBAIYCM5g/y8ATVRyawAABOkA/wMAAOAAQACQVFrOYIBUAACQRloAkDxazmCARgAAgDwAAJBHWgCQPVoAkD9aAJBBWgCQRFrOYIBHAACAPQAAgD8AAIBBAACARAAAkDxaAJA/Ws5ggDwAAIA/AACQU1rOYIBTAACQRloAkDxaAJA/Ws5ggEYAAIA8AACAPwAAkEFaAJBEWgCQO1oAkDxaAJA9Ws5ggEEAAIBEAACAOwAAgDwAAIA9AACQQVoAkERaAJA7WgCQPFoAkD1azmCAQQAAgEQAAIA7AACAPAAAgD0AAJA8Ws5ggDwAAJA/WgCQQ1oAkEZaAJBHWs5ggD8AAIBDAACARgAAgEcAAJA8WgCQP1rOYIA8AACAPwAAkEBaAJBBWs5ggEAAAIBBAACQPFoAkD9azmCAPAAAgD8AAJBDWgCQRloAkDxaAJA/Ws5ggEMAAIBGAACAPAAAgD8AAJBCWgCQR1rOYIBCAACARwAAkEFaAJBGWs5ggEEAAIBGAACQTVrOYIBNAACQTVrOYIBNAACQP1oAkEFazmCAPwAAgEEAAJA/WgCQQVrOYIA/AACAQQAAkDVazmCANQAAkERaAJBIWgCQP1rOYIBEAACASAAAgD8AAJBEWgCQSFoAkD9azmCARAAAgEgAAIA/AACQP1oAkEFazmCAPwAAgEEAAJA/WgCQQVrOYIA/AACAQQAAkD9aAJBBWs5ggD8AAIBBAACQM1rOYIAzAACQQ1oAkERaAJA8WgCQP1rOYIBDAACARAAAgDwAAIA/AACQV1rOYIBXAACQV1rOYIBXAACQV1rOYIBXAACQUlrOYIBSAACQSlrOYIBKAACQPlrOYIA+AACQSlrOYIBKAACQPlrOYIA+AACQOVrOYIA5AACQOVrOYIA5AACQOlrOYIA6AACQOlrOYIA6AACQPlrOYIA+AACQT1rOYIBPAACQJ1rOYIAnAACQJ1rOYIAnAACQUVrOYIBRAACQJ1rOYIAnAACQJ1rOYIAnAACQJ1rOYIAnAACQQ1oAkDxazmCAQwAAgDwAAJA3Ws5ggDcAAJA3Ws5ggDcAAJBCWs5ggEIAAJA/Ws5ggD8AAJA6Ws5ggDoAAJBEWgCQRlrOYIBEAACARgAAkDpazmCAOgAAkDBazmCAMAAAkDdazmCANwAAkEJaAJBHWs5ggEIAAIBHAACQN1rOYIA3AACQQ1oAkDxazmCAQwAAgDwAAJA/Ws5ggD8AAJA/Ws5ggD8AAJAsWs5ggCwAAJAsWs5ggCwAAJAwWs5ggDAAAJA3Ws5ggDcAAJBAWs5ggEAAAJBCWs5ggEIAAJBCWs5ggEIAAJBPWs5ggE8AAJBPWs5ggE8AAJAvWs5ggC8AAJBHWs5ggEcAAJBHWs5ggEcAAJBHWs5ggEcAAJA+Ws5ggD4AAJAvWs5ggC8AAJAvWs5ggC8AAJAvWs5ggC8AAJAwWs5ggDAAAJAvWs5ggC8AAJBAWs5ggEAAAJBAWs5ggEAAAJAwWs5ggDAAAJAwWs5ggDAAAJAwWs5ggDAAAJBUWs5ggFQAAJBUWs5ggFQAAJAwWs5ggDAAAJBJWs5ggEkAAJBJWs5ggEkAAJBJWs5ggEkAAJA6Ws5ggDoAAJA+Ws5ggD4AAJA+Ws5ggD4AAJA7Ws5ggDsAAJAvWs5ggC8AAJBAWs5ggEAAAJAvWs5ggC8AzmD/LwA=\" type=\"audio/sp-midi\" />\n",
              "                    Your browser does not support the audio element.\n",
              "                </audio>\n",
              "              "
            ]
          },
          "metadata": {},
          "execution_count": 66
        }
      ],
      "source": [
        "#To save the generated melody\n",
        "Melody.write('midi','new_music__.mid')\n",
        "#to play audio or corpus\n",
        "IPython.display.Audio(\"/content/new_music__.mid\")"
      ]
    },
    {
      "cell_type": "markdown",
      "metadata": {
        "id": "ZH_PqKKMCugl"
      },
      "source": []
    }
  ],
  "metadata": {
    "kernelspec": {
      "display_name": "Python 3",
      "name": "python3"
    },
    "language_info": {
      "codemirror_mode": {
        "name": "ipython",
        "version": 3
      },
      "file_extension": ".py",
      "mimetype": "text/x-python",
      "name": "python",
      "nbconvert_exporter": "python",
      "pygments_lexer": "ipython3",
      "version": "3.11.6"
    },
    "colab": {
      "provenance": [],
      "gpuType": "T4",
      "include_colab_link": true
    },
    "accelerator": "GPU"
  },
  "nbformat": 4,
  "nbformat_minor": 0
}